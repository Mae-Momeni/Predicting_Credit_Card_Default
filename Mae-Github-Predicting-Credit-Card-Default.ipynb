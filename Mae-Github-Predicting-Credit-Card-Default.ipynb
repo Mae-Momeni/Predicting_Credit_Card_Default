{
 "cells": [
  {
   "cell_type": "markdown",
   "id": "1ff84f89",
   "metadata": {},
   "source": [
    "# Predicting Credit Card Default"
   ]
  },
  {
   "cell_type": "markdown",
   "id": "1729b4e6",
   "metadata": {},
   "source": [
    "**Goal: to predict if a customer will default the credite card payment**"
   ]
  },
  {
   "cell_type": "code",
   "execution_count": 105,
   "id": "a8ee825b",
   "metadata": {},
   "outputs": [],
   "source": [
    "import numpy as np\n",
    "import pandas as pd\n",
    "import matplotlib.pyplot as plt\n",
    "%matplotlib inline\n",
    "from sklearn.model_selection import train_test_split\n",
    "from sklearn.metrics import accuracy_score, precision_score, recall_score, confusion_matrix, precision_recall_curve\n",
    "from sklearn.linear_model import LogisticRegression\n",
    "from sklearn.tree import DecisionTreeClassifier\n",
    "from sklearn.naive_bayes import GaussianNB\n",
    "from sklearn.ensemble import RandomForestClassifier\n",
    "from xgboost import XGBClassifier\n",
    "from sklearn.model_selection import GridSearchCV\n",
    "import seaborn as sns\n",
    "from collections import OrderedDict\n",
    "import time\n",
    "from sklearn.pipeline import make_pipeline, Pipeline\n",
    "import os\n",
    "import pickle"
   ]
  },
  {
   "cell_type": "markdown",
   "id": "0cde18db",
   "metadata": {},
   "source": [
    "### Reading file"
   ]
  },
  {
   "cell_type": "code",
   "execution_count": 137,
   "id": "978b0414",
   "metadata": {
    "scrolled": true
   },
   "outputs": [
    {
     "data": {
      "text/html": [
       "<div>\n",
       "<style scoped>\n",
       "    .dataframe tbody tr th:only-of-type {\n",
       "        vertical-align: middle;\n",
       "    }\n",
       "\n",
       "    .dataframe tbody tr th {\n",
       "        vertical-align: top;\n",
       "    }\n",
       "\n",
       "    .dataframe thead th {\n",
       "        text-align: right;\n",
       "    }\n",
       "</style>\n",
       "<table border=\"1\" class=\"dataframe\">\n",
       "  <thead>\n",
       "    <tr style=\"text-align: right;\">\n",
       "      <th></th>\n",
       "      <th>LIMIT_BAL</th>\n",
       "      <th>SEX</th>\n",
       "      <th>EDUCATION</th>\n",
       "      <th>MARRIAGE</th>\n",
       "      <th>AGE</th>\n",
       "      <th>PAY_0</th>\n",
       "      <th>PAY_2</th>\n",
       "      <th>PAY_3</th>\n",
       "      <th>PAY_4</th>\n",
       "      <th>PAY_5</th>\n",
       "      <th>...</th>\n",
       "      <th>BILL_AMT4</th>\n",
       "      <th>BILL_AMT5</th>\n",
       "      <th>BILL_AMT6</th>\n",
       "      <th>PAY_AMT1</th>\n",
       "      <th>PAY_AMT2</th>\n",
       "      <th>PAY_AMT3</th>\n",
       "      <th>PAY_AMT4</th>\n",
       "      <th>PAY_AMT5</th>\n",
       "      <th>PAY_AMT6</th>\n",
       "      <th>defaulted</th>\n",
       "    </tr>\n",
       "    <tr>\n",
       "      <th>ID</th>\n",
       "      <th></th>\n",
       "      <th></th>\n",
       "      <th></th>\n",
       "      <th></th>\n",
       "      <th></th>\n",
       "      <th></th>\n",
       "      <th></th>\n",
       "      <th></th>\n",
       "      <th></th>\n",
       "      <th></th>\n",
       "      <th></th>\n",
       "      <th></th>\n",
       "      <th></th>\n",
       "      <th></th>\n",
       "      <th></th>\n",
       "      <th></th>\n",
       "      <th></th>\n",
       "      <th></th>\n",
       "      <th></th>\n",
       "      <th></th>\n",
       "      <th></th>\n",
       "    </tr>\n",
       "  </thead>\n",
       "  <tbody>\n",
       "    <tr>\n",
       "      <th>1</th>\n",
       "      <td>20000</td>\n",
       "      <td>2</td>\n",
       "      <td>2</td>\n",
       "      <td>1</td>\n",
       "      <td>24</td>\n",
       "      <td>2</td>\n",
       "      <td>2</td>\n",
       "      <td>-1</td>\n",
       "      <td>-1</td>\n",
       "      <td>-2</td>\n",
       "      <td>...</td>\n",
       "      <td>0</td>\n",
       "      <td>0</td>\n",
       "      <td>0</td>\n",
       "      <td>0</td>\n",
       "      <td>689</td>\n",
       "      <td>0</td>\n",
       "      <td>0</td>\n",
       "      <td>0</td>\n",
       "      <td>0</td>\n",
       "      <td>1</td>\n",
       "    </tr>\n",
       "    <tr>\n",
       "      <th>2</th>\n",
       "      <td>120000</td>\n",
       "      <td>2</td>\n",
       "      <td>2</td>\n",
       "      <td>2</td>\n",
       "      <td>26</td>\n",
       "      <td>-1</td>\n",
       "      <td>2</td>\n",
       "      <td>0</td>\n",
       "      <td>0</td>\n",
       "      <td>0</td>\n",
       "      <td>...</td>\n",
       "      <td>3272</td>\n",
       "      <td>3455</td>\n",
       "      <td>3261</td>\n",
       "      <td>0</td>\n",
       "      <td>1000</td>\n",
       "      <td>1000</td>\n",
       "      <td>1000</td>\n",
       "      <td>0</td>\n",
       "      <td>2000</td>\n",
       "      <td>1</td>\n",
       "    </tr>\n",
       "    <tr>\n",
       "      <th>3</th>\n",
       "      <td>90000</td>\n",
       "      <td>2</td>\n",
       "      <td>2</td>\n",
       "      <td>2</td>\n",
       "      <td>34</td>\n",
       "      <td>0</td>\n",
       "      <td>0</td>\n",
       "      <td>0</td>\n",
       "      <td>0</td>\n",
       "      <td>0</td>\n",
       "      <td>...</td>\n",
       "      <td>14331</td>\n",
       "      <td>14948</td>\n",
       "      <td>15549</td>\n",
       "      <td>1518</td>\n",
       "      <td>1500</td>\n",
       "      <td>1000</td>\n",
       "      <td>1000</td>\n",
       "      <td>1000</td>\n",
       "      <td>5000</td>\n",
       "      <td>0</td>\n",
       "    </tr>\n",
       "    <tr>\n",
       "      <th>4</th>\n",
       "      <td>50000</td>\n",
       "      <td>2</td>\n",
       "      <td>2</td>\n",
       "      <td>1</td>\n",
       "      <td>37</td>\n",
       "      <td>0</td>\n",
       "      <td>0</td>\n",
       "      <td>0</td>\n",
       "      <td>0</td>\n",
       "      <td>0</td>\n",
       "      <td>...</td>\n",
       "      <td>28314</td>\n",
       "      <td>28959</td>\n",
       "      <td>29547</td>\n",
       "      <td>2000</td>\n",
       "      <td>2019</td>\n",
       "      <td>1200</td>\n",
       "      <td>1100</td>\n",
       "      <td>1069</td>\n",
       "      <td>1000</td>\n",
       "      <td>0</td>\n",
       "    </tr>\n",
       "    <tr>\n",
       "      <th>5</th>\n",
       "      <td>50000</td>\n",
       "      <td>1</td>\n",
       "      <td>2</td>\n",
       "      <td>1</td>\n",
       "      <td>57</td>\n",
       "      <td>-1</td>\n",
       "      <td>0</td>\n",
       "      <td>-1</td>\n",
       "      <td>0</td>\n",
       "      <td>0</td>\n",
       "      <td>...</td>\n",
       "      <td>20940</td>\n",
       "      <td>19146</td>\n",
       "      <td>19131</td>\n",
       "      <td>2000</td>\n",
       "      <td>36681</td>\n",
       "      <td>10000</td>\n",
       "      <td>9000</td>\n",
       "      <td>689</td>\n",
       "      <td>679</td>\n",
       "      <td>0</td>\n",
       "    </tr>\n",
       "  </tbody>\n",
       "</table>\n",
       "<p>5 rows × 24 columns</p>\n",
       "</div>"
      ],
      "text/plain": [
       "    LIMIT_BAL  SEX  EDUCATION  MARRIAGE  AGE  PAY_0  PAY_2  PAY_3  PAY_4  \\\n",
       "ID                                                                         \n",
       "1       20000    2          2         1   24      2      2     -1     -1   \n",
       "2      120000    2          2         2   26     -1      2      0      0   \n",
       "3       90000    2          2         2   34      0      0      0      0   \n",
       "4       50000    2          2         1   37      0      0      0      0   \n",
       "5       50000    1          2         1   57     -1      0     -1      0   \n",
       "\n",
       "    PAY_5  ...  BILL_AMT4  BILL_AMT5  BILL_AMT6  PAY_AMT1  PAY_AMT2  PAY_AMT3  \\\n",
       "ID         ...                                                                  \n",
       "1      -2  ...          0          0          0         0       689         0   \n",
       "2       0  ...       3272       3455       3261         0      1000      1000   \n",
       "3       0  ...      14331      14948      15549      1518      1500      1000   \n",
       "4       0  ...      28314      28959      29547      2000      2019      1200   \n",
       "5       0  ...      20940      19146      19131      2000     36681     10000   \n",
       "\n",
       "    PAY_AMT4  PAY_AMT5  PAY_AMT6  defaulted  \n",
       "ID                                           \n",
       "1          0         0         0          1  \n",
       "2       1000         0      2000          1  \n",
       "3       1000      1000      5000          0  \n",
       "4       1100      1069      1000          0  \n",
       "5       9000       689       679          0  \n",
       "\n",
       "[5 rows x 24 columns]"
      ]
     },
     "execution_count": 137,
     "metadata": {},
     "output_type": "execute_result"
    }
   ],
   "source": [
    "default = pd.read_csv(\".\\\\data\\\\credit_card_default.csv\", index_col = \"ID\")\n",
    "default.head()"
   ]
  },
  {
   "cell_type": "markdown",
   "id": "5ae998c0",
   "metadata": {},
   "source": [
    "## Data Preparation"
   ]
  },
  {
   "cell_type": "code",
   "execution_count": 138,
   "id": "c3754be7",
   "metadata": {},
   "outputs": [],
   "source": [
    "default.rename(columns = lambda x: x.lower(), inplace = True)\n",
    "default[\"male\"] = (default[\"sex\"] == 1).astype(int)\n",
    "default[\"married\"] = (default[\"marriage\"] == 1).astype(int)\n",
    "default[\"grad_school\"] = (default[\"education\"] == 1).astype(int)\n",
    "default[\"university\"] = (default[\"education\"] == 2).astype(int)\n",
    "default[\"high_school\"] = (default[\"education\"] == 3).astype(int)\n",
    "default.drop([\"male\", \"married\", \"education\"], axis = 1, inplace = True)\n",
    "default.rename(columns = {\"defaulted\": \"default\"}, inplace = True)"
   ]
  },
  {
   "cell_type": "code",
   "execution_count": 139,
   "id": "45deef37",
   "metadata": {},
   "outputs": [],
   "source": [
    "pay = ['pay_0', 'pay_2', 'pay_3', 'pay_4', 'pay_5', 'pay_6']\n",
    "for x in pay:\n",
    "    default.loc[default[x] <= 0, x] = 0"
   ]
  },
  {
   "cell_type": "code",
   "execution_count": 5,
   "id": "4e82fcbc",
   "metadata": {},
   "outputs": [
    {
     "data": {
      "text/html": [
       "<div>\n",
       "<style scoped>\n",
       "    .dataframe tbody tr th:only-of-type {\n",
       "        vertical-align: middle;\n",
       "    }\n",
       "\n",
       "    .dataframe tbody tr th {\n",
       "        vertical-align: top;\n",
       "    }\n",
       "\n",
       "    .dataframe thead th {\n",
       "        text-align: right;\n",
       "    }\n",
       "</style>\n",
       "<table border=\"1\" class=\"dataframe\">\n",
       "  <thead>\n",
       "    <tr style=\"text-align: right;\">\n",
       "      <th></th>\n",
       "      <th>limit_bal</th>\n",
       "      <th>sex</th>\n",
       "      <th>marriage</th>\n",
       "      <th>age</th>\n",
       "      <th>pay_0</th>\n",
       "      <th>pay_2</th>\n",
       "      <th>pay_3</th>\n",
       "      <th>pay_4</th>\n",
       "      <th>pay_5</th>\n",
       "      <th>pay_6</th>\n",
       "      <th>...</th>\n",
       "      <th>pay_amt1</th>\n",
       "      <th>pay_amt2</th>\n",
       "      <th>pay_amt3</th>\n",
       "      <th>pay_amt4</th>\n",
       "      <th>pay_amt5</th>\n",
       "      <th>pay_amt6</th>\n",
       "      <th>default</th>\n",
       "      <th>grad_school</th>\n",
       "      <th>university</th>\n",
       "      <th>high_school</th>\n",
       "    </tr>\n",
       "    <tr>\n",
       "      <th>ID</th>\n",
       "      <th></th>\n",
       "      <th></th>\n",
       "      <th></th>\n",
       "      <th></th>\n",
       "      <th></th>\n",
       "      <th></th>\n",
       "      <th></th>\n",
       "      <th></th>\n",
       "      <th></th>\n",
       "      <th></th>\n",
       "      <th></th>\n",
       "      <th></th>\n",
       "      <th></th>\n",
       "      <th></th>\n",
       "      <th></th>\n",
       "      <th></th>\n",
       "      <th></th>\n",
       "      <th></th>\n",
       "      <th></th>\n",
       "      <th></th>\n",
       "      <th></th>\n",
       "    </tr>\n",
       "  </thead>\n",
       "  <tbody>\n",
       "    <tr>\n",
       "      <th>1</th>\n",
       "      <td>20000</td>\n",
       "      <td>2</td>\n",
       "      <td>1</td>\n",
       "      <td>24</td>\n",
       "      <td>2</td>\n",
       "      <td>2</td>\n",
       "      <td>0</td>\n",
       "      <td>0</td>\n",
       "      <td>0</td>\n",
       "      <td>0</td>\n",
       "      <td>...</td>\n",
       "      <td>0</td>\n",
       "      <td>689</td>\n",
       "      <td>0</td>\n",
       "      <td>0</td>\n",
       "      <td>0</td>\n",
       "      <td>0</td>\n",
       "      <td>1</td>\n",
       "      <td>0</td>\n",
       "      <td>1</td>\n",
       "      <td>0</td>\n",
       "    </tr>\n",
       "    <tr>\n",
       "      <th>2</th>\n",
       "      <td>120000</td>\n",
       "      <td>2</td>\n",
       "      <td>2</td>\n",
       "      <td>26</td>\n",
       "      <td>0</td>\n",
       "      <td>2</td>\n",
       "      <td>0</td>\n",
       "      <td>0</td>\n",
       "      <td>0</td>\n",
       "      <td>2</td>\n",
       "      <td>...</td>\n",
       "      <td>0</td>\n",
       "      <td>1000</td>\n",
       "      <td>1000</td>\n",
       "      <td>1000</td>\n",
       "      <td>0</td>\n",
       "      <td>2000</td>\n",
       "      <td>1</td>\n",
       "      <td>0</td>\n",
       "      <td>1</td>\n",
       "      <td>0</td>\n",
       "    </tr>\n",
       "    <tr>\n",
       "      <th>3</th>\n",
       "      <td>90000</td>\n",
       "      <td>2</td>\n",
       "      <td>2</td>\n",
       "      <td>34</td>\n",
       "      <td>0</td>\n",
       "      <td>0</td>\n",
       "      <td>0</td>\n",
       "      <td>0</td>\n",
       "      <td>0</td>\n",
       "      <td>0</td>\n",
       "      <td>...</td>\n",
       "      <td>1518</td>\n",
       "      <td>1500</td>\n",
       "      <td>1000</td>\n",
       "      <td>1000</td>\n",
       "      <td>1000</td>\n",
       "      <td>5000</td>\n",
       "      <td>0</td>\n",
       "      <td>0</td>\n",
       "      <td>1</td>\n",
       "      <td>0</td>\n",
       "    </tr>\n",
       "    <tr>\n",
       "      <th>4</th>\n",
       "      <td>50000</td>\n",
       "      <td>2</td>\n",
       "      <td>1</td>\n",
       "      <td>37</td>\n",
       "      <td>0</td>\n",
       "      <td>0</td>\n",
       "      <td>0</td>\n",
       "      <td>0</td>\n",
       "      <td>0</td>\n",
       "      <td>0</td>\n",
       "      <td>...</td>\n",
       "      <td>2000</td>\n",
       "      <td>2019</td>\n",
       "      <td>1200</td>\n",
       "      <td>1100</td>\n",
       "      <td>1069</td>\n",
       "      <td>1000</td>\n",
       "      <td>0</td>\n",
       "      <td>0</td>\n",
       "      <td>1</td>\n",
       "      <td>0</td>\n",
       "    </tr>\n",
       "    <tr>\n",
       "      <th>5</th>\n",
       "      <td>50000</td>\n",
       "      <td>1</td>\n",
       "      <td>1</td>\n",
       "      <td>57</td>\n",
       "      <td>0</td>\n",
       "      <td>0</td>\n",
       "      <td>0</td>\n",
       "      <td>0</td>\n",
       "      <td>0</td>\n",
       "      <td>0</td>\n",
       "      <td>...</td>\n",
       "      <td>2000</td>\n",
       "      <td>36681</td>\n",
       "      <td>10000</td>\n",
       "      <td>9000</td>\n",
       "      <td>689</td>\n",
       "      <td>679</td>\n",
       "      <td>0</td>\n",
       "      <td>0</td>\n",
       "      <td>1</td>\n",
       "      <td>0</td>\n",
       "    </tr>\n",
       "  </tbody>\n",
       "</table>\n",
       "<p>5 rows × 26 columns</p>\n",
       "</div>"
      ],
      "text/plain": [
       "    limit_bal  sex  marriage  age  pay_0  pay_2  pay_3  pay_4  pay_5  pay_6  \\\n",
       "ID                                                                            \n",
       "1       20000    2         1   24      2      2      0      0      0      0   \n",
       "2      120000    2         2   26      0      2      0      0      0      2   \n",
       "3       90000    2         2   34      0      0      0      0      0      0   \n",
       "4       50000    2         1   37      0      0      0      0      0      0   \n",
       "5       50000    1         1   57      0      0      0      0      0      0   \n",
       "\n",
       "    ...  pay_amt1  pay_amt2  pay_amt3  pay_amt4  pay_amt5  pay_amt6  default  \\\n",
       "ID  ...                                                                        \n",
       "1   ...         0       689         0         0         0         0        1   \n",
       "2   ...         0      1000      1000      1000         0      2000        1   \n",
       "3   ...      1518      1500      1000      1000      1000      5000        0   \n",
       "4   ...      2000      2019      1200      1100      1069      1000        0   \n",
       "5   ...      2000     36681     10000      9000       689       679        0   \n",
       "\n",
       "    grad_school  university  high_school  \n",
       "ID                                        \n",
       "1             0           1            0  \n",
       "2             0           1            0  \n",
       "3             0           1            0  \n",
       "4             0           1            0  \n",
       "5             0           1            0  \n",
       "\n",
       "[5 rows x 26 columns]"
      ]
     },
     "execution_count": 5,
     "metadata": {},
     "output_type": "execute_result"
    }
   ],
   "source": [
    "default.head()"
   ]
  },
  {
   "cell_type": "markdown",
   "id": "63328d3c",
   "metadata": {},
   "source": [
    "## Building models"
   ]
  },
  {
   "cell_type": "markdown",
   "id": "6508360c",
   "metadata": {},
   "source": [
    "### Utils:  "
   ]
  },
  {
   "cell_type": "markdown",
   "id": "ca8886fc",
   "metadata": {},
   "source": [
    "1. To create a DataFrame for comparision of models"
   ]
  },
  {
   "cell_type": "code",
   "execution_count": 7,
   "id": "1df3c25e",
   "metadata": {},
   "outputs": [],
   "source": [
    "def make_comparision_df(index_lst:[str], columns_lst:[str]):\n",
    "    comparision_df = pd.DataFrame(index = index_lst, columns = columns_lst)\n",
    "    return comparision_df"
   ]
  },
  {
   "cell_type": "markdown",
   "id": "58156a12",
   "metadata": {},
   "source": [
    "2. To create Confusion Matrix"
   ]
  },
  {
   "cell_type": "code",
   "execution_count": 8,
   "id": "fca6cb9e",
   "metadata": {},
   "outputs": [],
   "source": [
    "def printMatrix(CM, labels = [\"pay\", \"default\"]):\n",
    "    df = pd.DataFrame(CM, index = labels, columns = labels)\n",
    "    df.index.name = \"True\"\n",
    "    df.columns.name = \"Prediction\"\n",
    "    df[\"Total\"] = df.sum(axis = 1)\n",
    "    df.loc[\"Total\"] = df.sum()\n",
    "    return df"
   ]
  },
  {
   "cell_type": "markdown",
   "id": "98f3e13c",
   "metadata": {},
   "source": [
    "3. The prediction analysis function"
   ]
  },
  {
   "cell_type": "code",
   "execution_count": 9,
   "id": "83627ab7",
   "metadata": {},
   "outputs": [],
   "source": [
    "def analyze_prediction(y_predicted, y_observed, result_matrix = None, model_name = None):\n",
    "    accuracy = accuracy_score(y_pred = y_predicted, y_true = y_observed)\n",
    "    precision = precision_score(y_pred = y_predicted, y_true = y_observed)\n",
    "    recall = recall_score(y_pred = y_predicted, y_true = y_observed)\n",
    "    \n",
    "    if (model_name != None):\n",
    "        result_matrix.loc[\"accuracy\", model_name] = 100 * accuracy\n",
    "        result_matrix.loc[\"precision\", model_name] = 100 * precision\n",
    "        result_matrix.loc[\"recall\", model_name] = 100 * recall\n",
    "    print(\"Accuracy, Precision, Recall\")\n",
    "    return accuracy, precision, recall"
   ]
  },
  {
   "cell_type": "markdown",
   "id": "55628c8d",
   "metadata": {},
   "source": [
    "4. A function to adjust the threshold"
   ]
  },
  {
   "cell_type": "code",
   "execution_count": 10,
   "id": "23a06e90",
   "metadata": {},
   "outputs": [],
   "source": [
    "def adjust_threshold(probability, threshold, y_observed):\n",
    "    y_pred_original = (probability >= 0.5).astype(int)\n",
    "    recall_original = 100 * recall_score(y_pred = y_pred_original, y_true = y_observed)\n",
    "    precision_original = 100 * precision_score(y_pred = y_pred_original, y_true = y_observed)\n",
    "    \n",
    "    y_pred_new = (probability >= 0.2).astype(int)\n",
    "    recall_new = 100 * recall_score(y_pred = y_pred_new, y_true = y_observed)\n",
    "    precision_new = 100 * precision_score(y_pred = y_pred_new, y_true = y_observed)\n",
    "    \n",
    "    comparision_df = pd.DataFrame({\"Threshold = 0.5\": [recall_original, precision_original],\n",
    "                                  \"Threshold = 0.2\": [recall_new, precision_new]},\n",
    "                                  index = [\"Recall\", \"Precision\"])\n",
    "    CM = confusion_matrix(y_pred_new, y_observed)\n",
    "    confusion_df = printMatrix(CM)\n",
    "    return comparision_df, confusion_df"
   ]
  },
  {
   "cell_type": "markdown",
   "id": "757a20b8",
   "metadata": {},
   "source": [
    "5. A function to make the finall prediction"
   ]
  },
  {
   "cell_type": "code",
   "execution_count": 11,
   "id": "be911a25",
   "metadata": {},
   "outputs": [],
   "source": [
    "def make_predict(new_data, model, scaler, threshold):\n",
    "    data = new_data.values.reshape(1, -1)\n",
    "    data = scaler.transform(data)\n",
    "    prob = model.predict_proba(data)[0, 1]\n",
    "    if prob >= threshold:\n",
    "        return \"Will Default\"\n",
    "    else:\n",
    "        return \"Will Pay\""
   ]
  },
  {
   "cell_type": "markdown",
   "id": "0f7f8f50",
   "metadata": {},
   "source": [
    "6. A function to plot 2 lines in one figure"
   ]
  },
  {
   "cell_type": "code",
   "execution_count": 12,
   "id": "950191c8",
   "metadata": {},
   "outputs": [],
   "source": [
    "def plot_2lines(x1, y1, x2, y2, c1 = \"red\", c2 = \"blue\", lbl1 = \"func1\", lbl2 = \"func2\", xlbl = \"x_axis\", ylbl = \"y_axis\", title = \"Title\", grid = True):\n",
    "    fix, ax = plt.subplots(figsize = (8, 4))\n",
    "    ax.plot(x1, y1, color = c1, label = lbl1)\n",
    "    ax.plot(x2, y2, color = c2, label = lbl2)\n",
    "    ax.set_xlabel(xlbl)\n",
    "    ax.set_ylabel(ylbl)\n",
    "    ax.set_title(title)\n",
    "    ax.legend(loc = \"upper right\")\n",
    "    if (grid == True):\n",
    "        ax.grid"
   ]
  },
  {
   "cell_type": "markdown",
   "id": "4791b6eb",
   "metadata": {},
   "source": [
    "7. A function to create bar plots"
   ]
  },
  {
   "cell_type": "code",
   "execution_count": 13,
   "id": "2e2496ae",
   "metadata": {},
   "outputs": [],
   "source": [
    "def make_bar_plot(X, y, title = 'Title', xlbl = 'X_Label', ylbl = 'Y_Label',\n",
    "                  xRotation = 90, annotation = False):\n",
    "    fig, ax = plt.subplots(figsize = (8, 4))\n",
    "    sns.barplot(X, y, ax = ax)\n",
    "    patches = ax.patches\n",
    "    n = len(patches)\n",
    "    if(n == 2):\n",
    "        patches[0].set_facecolor('cornflowerblue')\n",
    "        patches[1].set_facecolor('orangered')\n",
    "    else:\n",
    "        for i in range(n):\n",
    "            x = (n-1)/n - i/n\n",
    "            patches[i].set_facecolor(plt.cm.brg(x))\n",
    "            \n",
    "    if(annotation == True):\n",
    "        for p in ax.patches:\n",
    "            x = p.get_bbox().get_points()[:,0]\n",
    "            y = p.get_bbox().get_points()[1,1]\n",
    "            ax.annotate('{:.1f}%'.format(y), (x.mean(), y), ha = 'center', va = 'bottom')\n",
    "\n",
    "    if(xRotation != 0):\n",
    "        ax.tick_params(axis = 'x', labelrotation = xRotation)\n",
    "\n",
    "    ax.set_title(title, fontweight = \"bold\")\n",
    "    ax.set_xlabel(xlbl, fontweight = \"bold\")\n",
    "    ax.set_ylabel(ylbl, fontweight = \"bold\")"
   ]
  },
  {
   "cell_type": "markdown",
   "id": "afbf4fd6",
   "metadata": {},
   "source": [
    "8. A function to evaluate the effect of data size on the predictability"
   ]
  },
  {
   "cell_type": "code",
   "execution_count": 14,
   "id": "ea1d69d5",
   "metadata": {},
   "outputs": [],
   "source": [
    "def analyze_data_size(keep_ratio,X_train_original, X_test_original, y_train_original, y_test_original):\n",
    "    X_train_new, X_test_new, y_train_new, y_test_new = train_test_split(X_train_original,\n",
    "                                                                        y_train_original,\n",
    "                                                                        train_size = keep_ratio,\n",
    "                                                                        random_state = 123, \n",
    "                                                                        stratify = y_train_original)\n",
    "        \n",
    "    NB = GaussianNB(var_smoothing = 0.1873817422860384)\n",
    "    NB.fit(X_train_new, y_train_new)\n",
    "    y_pred_test = NB.predict(X_test_original)\n",
    "    analyze_prediction(y_pred_test, y_test_original, result_matrix = models_dataSize, model_name =\n",
    "                                                                     str(round(100 * keep_ratio))+\"%\")"
   ]
  },
  {
   "cell_type": "markdown",
   "id": "1aebaf38",
   "metadata": {},
   "source": [
    "### Scalling and splitting the dataset"
   ]
  },
  {
   "cell_type": "code",
   "execution_count": 140,
   "id": "781235b0",
   "metadata": {},
   "outputs": [],
   "source": [
    "target_name = \"default\"\n",
    "X = default.drop(target_name, axis = 1)\n",
    "X_columns = X.columns            # We will use the columns names for future plotting.\n",
    "y = default[target_name]\n",
    "RS = RobustScaler()\n",
    "X = RS.fit_transform(X)\n",
    "X_train, X_test, y_train, y_test = train_test_split(X, y, test_size = 0.15, random_state = 123, stratify = y)"
   ]
  },
  {
   "cell_type": "markdown",
   "id": "673c2d26",
   "metadata": {},
   "source": [
    "#### Creating a table to compare the models"
   ]
  },
  {
   "cell_type": "code",
   "execution_count": 16,
   "id": "3ea5858a",
   "metadata": {},
   "outputs": [
    {
     "data": {
      "text/html": [
       "<div>\n",
       "<style scoped>\n",
       "    .dataframe tbody tr th:only-of-type {\n",
       "        vertical-align: middle;\n",
       "    }\n",
       "\n",
       "    .dataframe tbody tr th {\n",
       "        vertical-align: top;\n",
       "    }\n",
       "\n",
       "    .dataframe thead th {\n",
       "        text-align: right;\n",
       "    }\n",
       "</style>\n",
       "<table border=\"1\" class=\"dataframe\">\n",
       "  <thead>\n",
       "    <tr style=\"text-align: right;\">\n",
       "      <th></th>\n",
       "      <th>NULL</th>\n",
       "      <th>LogisticReg</th>\n",
       "      <th>ClassTree</th>\n",
       "      <th>NaiveBayes</th>\n",
       "    </tr>\n",
       "  </thead>\n",
       "  <tbody>\n",
       "    <tr>\n",
       "      <th>accuracy</th>\n",
       "      <td>NaN</td>\n",
       "      <td>NaN</td>\n",
       "      <td>NaN</td>\n",
       "      <td>NaN</td>\n",
       "    </tr>\n",
       "    <tr>\n",
       "      <th>precision</th>\n",
       "      <td>NaN</td>\n",
       "      <td>NaN</td>\n",
       "      <td>NaN</td>\n",
       "      <td>NaN</td>\n",
       "    </tr>\n",
       "    <tr>\n",
       "      <th>recall</th>\n",
       "      <td>NaN</td>\n",
       "      <td>NaN</td>\n",
       "      <td>NaN</td>\n",
       "      <td>NaN</td>\n",
       "    </tr>\n",
       "  </tbody>\n",
       "</table>\n",
       "</div>"
      ],
      "text/plain": [
       "          NULL LogisticReg ClassTree NaiveBayes\n",
       "accuracy   NaN         NaN       NaN        NaN\n",
       "precision  NaN         NaN       NaN        NaN\n",
       "recall     NaN         NaN       NaN        NaN"
      ]
     },
     "execution_count": 16,
     "metadata": {},
     "output_type": "execute_result"
    }
   ],
   "source": [
    "models = make_comparision_df(index_lst = [\"accuracy\", \"precision\", \"recall\"],\n",
    "                             columns_lst = [\"NULL\", \"LogisticReg\", \"ClassTree\", \"NaiveBayes\"])\n",
    "models"
   ]
  },
  {
   "cell_type": "code",
   "execution_count": 17,
   "id": "2ede6667",
   "metadata": {
    "scrolled": true
   },
   "outputs": [
    {
     "name": "stdout",
     "output_type": "stream",
     "text": [
      "25500\n",
      "0    19859\n",
      "1     5641\n",
      "Name: default, dtype: int64\n"
     ]
    }
   ],
   "source": [
    "print(y_train.size)\n",
    "print(y_train.value_counts())"
   ]
  },
  {
   "cell_type": "markdown",
   "id": "99b7bdf6",
   "metadata": {},
   "source": [
    "### A. NULL Model"
   ]
  },
  {
   "cell_type": "code",
   "execution_count": 18,
   "id": "f4c33626",
   "metadata": {},
   "outputs": [
    {
     "name": "stdout",
     "output_type": "stream",
     "text": [
      "[0, 0, 0, 0, 0, 0, 0, 0, 0, 0]\n"
     ]
    }
   ],
   "source": [
    "y_pred_test = [0] * y_test.size\n",
    "print(y_pred_test[:10])"
   ]
  },
  {
   "cell_type": "code",
   "execution_count": 19,
   "id": "7a802e5b",
   "metadata": {},
   "outputs": [
    {
     "name": "stdout",
     "output_type": "stream",
     "text": [
      "Accuracy, Precision, Recall\n"
     ]
    },
    {
     "name": "stderr",
     "output_type": "stream",
     "text": [
      "C:\\Users\\tohid\\AppData\\Roaming\\Python\\Python38\\site-packages\\sklearn\\metrics\\_classification.py:1248: UndefinedMetricWarning: Precision is ill-defined and being set to 0.0 due to no predicted samples. Use `zero_division` parameter to control this behavior.\n",
      "  _warn_prf(average, modifier, msg_start, len(result))\n"
     ]
    },
    {
     "data": {
      "text/plain": [
       "(0.7788888888888889, 0.0, 0.0)"
      ]
     },
     "execution_count": 19,
     "metadata": {},
     "output_type": "execute_result"
    }
   ],
   "source": [
    "analyze_prediction(y_pred_test, y_test, result_matrix = models, model_name = \"NULL\")"
   ]
  },
  {
   "cell_type": "code",
   "execution_count": 20,
   "id": "dc54b744",
   "metadata": {},
   "outputs": [
    {
     "data": {
      "text/html": [
       "<div>\n",
       "<style scoped>\n",
       "    .dataframe tbody tr th:only-of-type {\n",
       "        vertical-align: middle;\n",
       "    }\n",
       "\n",
       "    .dataframe tbody tr th {\n",
       "        vertical-align: top;\n",
       "    }\n",
       "\n",
       "    .dataframe thead th {\n",
       "        text-align: right;\n",
       "    }\n",
       "</style>\n",
       "<table border=\"1\" class=\"dataframe\">\n",
       "  <thead>\n",
       "    <tr style=\"text-align: right;\">\n",
       "      <th></th>\n",
       "      <th>NULL</th>\n",
       "      <th>LogisticReg</th>\n",
       "      <th>ClassTree</th>\n",
       "      <th>NaiveBayes</th>\n",
       "    </tr>\n",
       "  </thead>\n",
       "  <tbody>\n",
       "    <tr>\n",
       "      <th>accuracy</th>\n",
       "      <td>77.888889</td>\n",
       "      <td>NaN</td>\n",
       "      <td>NaN</td>\n",
       "      <td>NaN</td>\n",
       "    </tr>\n",
       "    <tr>\n",
       "      <th>precision</th>\n",
       "      <td>0.0</td>\n",
       "      <td>NaN</td>\n",
       "      <td>NaN</td>\n",
       "      <td>NaN</td>\n",
       "    </tr>\n",
       "    <tr>\n",
       "      <th>recall</th>\n",
       "      <td>0.0</td>\n",
       "      <td>NaN</td>\n",
       "      <td>NaN</td>\n",
       "      <td>NaN</td>\n",
       "    </tr>\n",
       "  </tbody>\n",
       "</table>\n",
       "</div>"
      ],
      "text/plain": [
       "                NULL LogisticReg ClassTree NaiveBayes\n",
       "accuracy   77.888889         NaN       NaN        NaN\n",
       "precision        0.0         NaN       NaN        NaN\n",
       "recall           0.0         NaN       NaN        NaN"
      ]
     },
     "execution_count": 20,
     "metadata": {},
     "output_type": "execute_result"
    }
   ],
   "source": [
    "models"
   ]
  },
  {
   "cell_type": "code",
   "execution_count": 21,
   "id": "30bd7a6f",
   "metadata": {
    "scrolled": false
   },
   "outputs": [
    {
     "data": {
      "text/html": [
       "<div>\n",
       "<style scoped>\n",
       "    .dataframe tbody tr th:only-of-type {\n",
       "        vertical-align: middle;\n",
       "    }\n",
       "\n",
       "    .dataframe tbody tr th {\n",
       "        vertical-align: top;\n",
       "    }\n",
       "\n",
       "    .dataframe thead th {\n",
       "        text-align: right;\n",
       "    }\n",
       "</style>\n",
       "<table border=\"1\" class=\"dataframe\">\n",
       "  <thead>\n",
       "    <tr style=\"text-align: right;\">\n",
       "      <th>Prediction</th>\n",
       "      <th>pay</th>\n",
       "      <th>default</th>\n",
       "      <th>Total</th>\n",
       "    </tr>\n",
       "    <tr>\n",
       "      <th>True</th>\n",
       "      <th></th>\n",
       "      <th></th>\n",
       "      <th></th>\n",
       "    </tr>\n",
       "  </thead>\n",
       "  <tbody>\n",
       "    <tr>\n",
       "      <th>pay</th>\n",
       "      <td>3505</td>\n",
       "      <td>0</td>\n",
       "      <td>3505</td>\n",
       "    </tr>\n",
       "    <tr>\n",
       "      <th>default</th>\n",
       "      <td>995</td>\n",
       "      <td>0</td>\n",
       "      <td>995</td>\n",
       "    </tr>\n",
       "    <tr>\n",
       "      <th>Total</th>\n",
       "      <td>4500</td>\n",
       "      <td>0</td>\n",
       "      <td>4500</td>\n",
       "    </tr>\n",
       "  </tbody>\n",
       "</table>\n",
       "</div>"
      ],
      "text/plain": [
       "Prediction   pay  default  Total\n",
       "True                            \n",
       "pay         3505        0   3505\n",
       "default      995        0    995\n",
       "Total       4500        0   4500"
      ]
     },
     "execution_count": 21,
     "metadata": {},
     "output_type": "execute_result"
    }
   ],
   "source": [
    "CM = confusion_matrix(y_pred = y_pred_test, y_true = y_test)\n",
    "printMatrix(CM)"
   ]
  },
  {
   "cell_type": "markdown",
   "id": "a58cf873",
   "metadata": {},
   "source": [
    "### B. Logistic Regression Model"
   ]
  },
  {
   "cell_type": "code",
   "execution_count": 22,
   "id": "61278b1e",
   "metadata": {},
   "outputs": [
    {
     "name": "stdout",
     "output_type": "stream",
     "text": [
      "Accuracy, Precision, Recall\n"
     ]
    },
    {
     "data": {
      "text/plain": [
       "(0.8193333333333334, 0.6978260869565217, 0.32261306532663314)"
      ]
     },
     "execution_count": 22,
     "metadata": {},
     "output_type": "execute_result"
    }
   ],
   "source": [
    "LR = LogisticRegression(n_jobs = -1, random_state = 123)\n",
    "LR.fit(X_train, y_train)\n",
    "y_pred_test = LR.predict(X_test)\n",
    "analyze_prediction(y_pred_test, y_test, result_matrix = models, model_name = \"LogisticReg\")"
   ]
  },
  {
   "cell_type": "code",
   "execution_count": 23,
   "id": "a9bf77bb",
   "metadata": {
    "scrolled": true
   },
   "outputs": [
    {
     "data": {
      "text/html": [
       "<div>\n",
       "<style scoped>\n",
       "    .dataframe tbody tr th:only-of-type {\n",
       "        vertical-align: middle;\n",
       "    }\n",
       "\n",
       "    .dataframe tbody tr th {\n",
       "        vertical-align: top;\n",
       "    }\n",
       "\n",
       "    .dataframe thead th {\n",
       "        text-align: right;\n",
       "    }\n",
       "</style>\n",
       "<table border=\"1\" class=\"dataframe\">\n",
       "  <thead>\n",
       "    <tr style=\"text-align: right;\">\n",
       "      <th>Prediction</th>\n",
       "      <th>pay</th>\n",
       "      <th>default</th>\n",
       "      <th>Total</th>\n",
       "    </tr>\n",
       "    <tr>\n",
       "      <th>True</th>\n",
       "      <th></th>\n",
       "      <th></th>\n",
       "      <th></th>\n",
       "    </tr>\n",
       "  </thead>\n",
       "  <tbody>\n",
       "    <tr>\n",
       "      <th>pay</th>\n",
       "      <td>3366</td>\n",
       "      <td>139</td>\n",
       "      <td>3505</td>\n",
       "    </tr>\n",
       "    <tr>\n",
       "      <th>default</th>\n",
       "      <td>674</td>\n",
       "      <td>321</td>\n",
       "      <td>995</td>\n",
       "    </tr>\n",
       "    <tr>\n",
       "      <th>Total</th>\n",
       "      <td>4040</td>\n",
       "      <td>460</td>\n",
       "      <td>4500</td>\n",
       "    </tr>\n",
       "  </tbody>\n",
       "</table>\n",
       "</div>"
      ],
      "text/plain": [
       "Prediction   pay  default  Total\n",
       "True                            \n",
       "pay         3366      139   3505\n",
       "default      674      321    995\n",
       "Total       4040      460   4500"
      ]
     },
     "execution_count": 23,
     "metadata": {},
     "output_type": "execute_result"
    }
   ],
   "source": [
    "CM = confusion_matrix(y_pred = y_pred_test, y_true = y_test)\n",
    "printMatrix(CM)"
   ]
  },
  {
   "cell_type": "markdown",
   "id": "23fe0c95",
   "metadata": {},
   "source": [
    "### C. Decision Tree Model"
   ]
  },
  {
   "cell_type": "code",
   "execution_count": 24,
   "id": "6299d3fe",
   "metadata": {},
   "outputs": [
    {
     "name": "stdout",
     "output_type": "stream",
     "text": [
      "Accuracy, Precision, Recall\n"
     ]
    },
    {
     "data": {
      "text/plain": [
       "(0.7886666666666666, 0.5321637426900585, 0.3658291457286432)"
      ]
     },
     "execution_count": 24,
     "metadata": {},
     "output_type": "execute_result"
    }
   ],
   "source": [
    "DTC = DecisionTreeClassifier(min_samples_split = 30, min_samples_leaf = 10, random_state = 123)\n",
    "DTC.fit(X_train, y_train)\n",
    "y_pred_test = DTC.predict(X_test)\n",
    "analyze_prediction(y_pred_test, y_test, result_matrix = models, model_name = \"ClassTree\")"
   ]
  },
  {
   "cell_type": "code",
   "execution_count": 25,
   "id": "023419fe",
   "metadata": {
    "scrolled": true
   },
   "outputs": [
    {
     "data": {
      "text/html": [
       "<div>\n",
       "<style scoped>\n",
       "    .dataframe tbody tr th:only-of-type {\n",
       "        vertical-align: middle;\n",
       "    }\n",
       "\n",
       "    .dataframe tbody tr th {\n",
       "        vertical-align: top;\n",
       "    }\n",
       "\n",
       "    .dataframe thead th {\n",
       "        text-align: right;\n",
       "    }\n",
       "</style>\n",
       "<table border=\"1\" class=\"dataframe\">\n",
       "  <thead>\n",
       "    <tr style=\"text-align: right;\">\n",
       "      <th>Prediction</th>\n",
       "      <th>pay</th>\n",
       "      <th>default</th>\n",
       "      <th>Total</th>\n",
       "    </tr>\n",
       "    <tr>\n",
       "      <th>True</th>\n",
       "      <th></th>\n",
       "      <th></th>\n",
       "      <th></th>\n",
       "    </tr>\n",
       "  </thead>\n",
       "  <tbody>\n",
       "    <tr>\n",
       "      <th>pay</th>\n",
       "      <td>3185</td>\n",
       "      <td>320</td>\n",
       "      <td>3505</td>\n",
       "    </tr>\n",
       "    <tr>\n",
       "      <th>default</th>\n",
       "      <td>631</td>\n",
       "      <td>364</td>\n",
       "      <td>995</td>\n",
       "    </tr>\n",
       "    <tr>\n",
       "      <th>Total</th>\n",
       "      <td>3816</td>\n",
       "      <td>684</td>\n",
       "      <td>4500</td>\n",
       "    </tr>\n",
       "  </tbody>\n",
       "</table>\n",
       "</div>"
      ],
      "text/plain": [
       "Prediction   pay  default  Total\n",
       "True                            \n",
       "pay         3185      320   3505\n",
       "default      631      364    995\n",
       "Total       3816      684   4500"
      ]
     },
     "execution_count": 25,
     "metadata": {},
     "output_type": "execute_result"
    }
   ],
   "source": [
    "CM = confusion_matrix(y_pred = y_pred_test, y_true = y_test)\n",
    "printMatrix(CM)"
   ]
  },
  {
   "cell_type": "markdown",
   "id": "c9422bbb",
   "metadata": {},
   "source": [
    "### D. Naive Bayes Model"
   ]
  },
  {
   "cell_type": "code",
   "execution_count": 26,
   "id": "c1785b61",
   "metadata": {},
   "outputs": [
    {
     "name": "stdout",
     "output_type": "stream",
     "text": [
      "Accuracy, Precision, Recall\n"
     ]
    },
    {
     "data": {
      "text/plain": [
       "(0.7704444444444445, 0.4834494773519164, 0.5577889447236181)"
      ]
     },
     "execution_count": 26,
     "metadata": {},
     "output_type": "execute_result"
    }
   ],
   "source": [
    "NB = GaussianNB()\n",
    "NB.fit(X_train, y_train)\n",
    "y_pred_test = NB.predict(X_test)\n",
    "analyze_prediction(y_pred_test, y_test, result_matrix = models, model_name = \"NaiveBayes\")"
   ]
  },
  {
   "cell_type": "code",
   "execution_count": 27,
   "id": "bd7f0a43",
   "metadata": {
    "scrolled": true
   },
   "outputs": [
    {
     "data": {
      "text/html": [
       "<div>\n",
       "<style scoped>\n",
       "    .dataframe tbody tr th:only-of-type {\n",
       "        vertical-align: middle;\n",
       "    }\n",
       "\n",
       "    .dataframe tbody tr th {\n",
       "        vertical-align: top;\n",
       "    }\n",
       "\n",
       "    .dataframe thead th {\n",
       "        text-align: right;\n",
       "    }\n",
       "</style>\n",
       "<table border=\"1\" class=\"dataframe\">\n",
       "  <thead>\n",
       "    <tr style=\"text-align: right;\">\n",
       "      <th>Prediction</th>\n",
       "      <th>pay</th>\n",
       "      <th>default</th>\n",
       "      <th>Total</th>\n",
       "    </tr>\n",
       "    <tr>\n",
       "      <th>True</th>\n",
       "      <th></th>\n",
       "      <th></th>\n",
       "      <th></th>\n",
       "    </tr>\n",
       "  </thead>\n",
       "  <tbody>\n",
       "    <tr>\n",
       "      <th>pay</th>\n",
       "      <td>2912</td>\n",
       "      <td>593</td>\n",
       "      <td>3505</td>\n",
       "    </tr>\n",
       "    <tr>\n",
       "      <th>default</th>\n",
       "      <td>440</td>\n",
       "      <td>555</td>\n",
       "      <td>995</td>\n",
       "    </tr>\n",
       "    <tr>\n",
       "      <th>Total</th>\n",
       "      <td>3352</td>\n",
       "      <td>1148</td>\n",
       "      <td>4500</td>\n",
       "    </tr>\n",
       "  </tbody>\n",
       "</table>\n",
       "</div>"
      ],
      "text/plain": [
       "Prediction   pay  default  Total\n",
       "True                            \n",
       "pay         2912      593   3505\n",
       "default      440      555    995\n",
       "Total       3352     1148   4500"
      ]
     },
     "execution_count": 27,
     "metadata": {},
     "output_type": "execute_result"
    }
   ],
   "source": [
    "CM = confusion_matrix(y_pred = y_pred_test, y_true = y_test)\n",
    "printMatrix(CM)"
   ]
  },
  {
   "cell_type": "markdown",
   "id": "4ad2aee5",
   "metadata": {},
   "source": [
    "#### In the present case:\n",
    "\n",
    "**Accuracy**:  means overall how often the model predicts correctly defaulters and non-defaulters.\n",
    "\n",
    "**Precision**: means when the model predicts default how often it's correct. \n",
    "\n",
    "**Recall**:    means the proportion of actual defaulters that the model will correctly predict.\n",
    "\n",
    "Which metrics should we use depends on which mistake we want to avoid.\n",
    "\n",
    "So in this context:\n",
    "\n",
    "**False positive**: is a person who will pay and is predicted by the model as a defaulter.\n",
    "\n",
    "**False negative**: is a person who will default and is predicted as a payer, as somebody who will pay.\n",
    "\n",
    "In this case, the **False negatives** are **worse**. So if we want to avoid false negatives we should go for the **recall** as our main metric to evaluate the performance of the model."
   ]
  },
  {
   "cell_type": "markdown",
   "id": "d18bc173",
   "metadata": {},
   "source": [
    "### Plot and compare the models"
   ]
  },
  {
   "cell_type": "code",
   "execution_count": 28,
   "id": "6d8e11ab",
   "metadata": {
    "scrolled": true
   },
   "outputs": [
    {
     "data": {
      "image/png": "[encoded data removed]",
      "text/plain": [
       "<Figure size 576x288 with 1 Axes>"
      ]
     },
     "metadata": {
      "needs_background": "light"
     },
     "output_type": "display_data"
    }
   ],
   "source": [
    "fig, ax = plt.subplots(figsize = (8, 4))\n",
    "models.plot(kind = \"barh\", ax = ax)\n",
    "ax.grid()"
   ]
  },
  {
   "cell_type": "markdown",
   "id": "faf099fd",
   "metadata": {},
   "source": [
    "#### Insight:\n",
    "As can be seen, Naive Bayes model yeilds the highest recall while Logistic Regression model has the highest precision."
   ]
  },
  {
   "cell_type": "markdown",
   "id": "4c884c9e",
   "metadata": {},
   "source": [
    "### Recall, Precision, and Threshold"
   ]
  },
  {
   "cell_type": "markdown",
   "id": "8a9b12df",
   "metadata": {},
   "source": [
    "Let's evaluate the relationship between recall, precision, and threshold for the Naive Bayes and Logistic Regression models."
   ]
  },
  {
   "cell_type": "code",
   "execution_count": 29,
   "id": "95297116",
   "metadata": {},
   "outputs": [],
   "source": [
    "precision_NB, recall_NB, threshold_NB = precision_recall_curve(y_true = y_test, \n",
    "                                                                  probas_pred = NB.predict_proba(X_test)[:,1])\n",
    "precision_LR, recall_LR, threshold_LR = precision_recall_curve(y_true = y_test, \n",
    "                                                                  probas_pred = LR.predict_proba(X_test)[:,1])"
   ]
  },
  {
   "cell_type": "code",
   "execution_count": 30,
   "id": "22c0edfe",
   "metadata": {
    "scrolled": true
   },
   "outputs": [
    {
     "data": {
      "image/png": "[encoded data removed]",
      "text/plain": [
       "<Figure size 576x288 with 1 Axes>"
      ]
     },
     "metadata": {
      "needs_background": "light"
     },
     "output_type": "display_data"
    }
   ],
   "source": [
    "plot_2lines(x1 = precision_NB, y1 = recall_NB, \n",
    "            x2 = precision_LR, y2 = recall_LR, \n",
    "            lbl1 = \"Naive Bayes\", lbl2 = \"Logistic Regression\",\n",
    "            xlbl = \"Precision\", ylbl = \"Recall\", title = \"Precision vs Recall\")"
   ]
  },
  {
   "cell_type": "code",
   "execution_count": 31,
   "id": "c2911b48",
   "metadata": {
    "scrolled": true
   },
   "outputs": [
    {
     "data": {
      "image/png": "[encoded data removed]",
      "text/plain": [
       "<Figure size 576x288 with 1 Axes>"
      ]
     },
     "metadata": {
      "needs_background": "light"
     },
     "output_type": "display_data"
    }
   ],
   "source": [
    "plot_2lines(x1 = threshold_LR, y1 = precision_LR[1:],\n",
    "            x2 = threshold_LR, y2 = recall_LR[1:], \n",
    "            lbl1 = \"Precision\", lbl2 = \"Recall\",\n",
    "            xlbl = \"Threshold\", ylbl = \"Precision, Recall\", \n",
    "            title = \"Logistic Regression Classifier, Precision-Recall\")"
   ]
  },
  {
   "cell_type": "markdown",
   "id": "1a425c39",
   "metadata": {},
   "source": [
    "#### Insight:\n",
    "Depending on the priority of bussiness metrics and other bussiness related factors, we can choose the models with the recall, precision, and trhreshold as desired."
   ]
  },
  {
   "cell_type": "markdown",
   "id": "4469a6dd",
   "metadata": {},
   "source": [
    "### Adjusting the threshold"
   ]
  },
  {
   "cell_type": "code",
   "execution_count": 32,
   "id": "1b7b6704",
   "metadata": {
    "scrolled": true
   },
   "outputs": [
    {
     "data": {
      "text/html": [
       "<div>\n",
       "<style scoped>\n",
       "    .dataframe tbody tr th:only-of-type {\n",
       "        vertical-align: middle;\n",
       "    }\n",
       "\n",
       "    .dataframe tbody tr th {\n",
       "        vertical-align: top;\n",
       "    }\n",
       "\n",
       "    .dataframe thead th {\n",
       "        text-align: right;\n",
       "    }\n",
       "</style>\n",
       "<table border=\"1\" class=\"dataframe\">\n",
       "  <thead>\n",
       "    <tr style=\"text-align: right;\">\n",
       "      <th></th>\n",
       "      <th>Threshold = 0.5</th>\n",
       "      <th>Threshold = 0.2</th>\n",
       "    </tr>\n",
       "  </thead>\n",
       "  <tbody>\n",
       "    <tr>\n",
       "      <th>Recall</th>\n",
       "      <td>32.261307</td>\n",
       "      <td>59.296482</td>\n",
       "    </tr>\n",
       "    <tr>\n",
       "      <th>Precision</th>\n",
       "      <td>69.782609</td>\n",
       "      <td>48.084760</td>\n",
       "    </tr>\n",
       "  </tbody>\n",
       "</table>\n",
       "</div>"
      ],
      "text/plain": [
       "           Threshold = 0.5  Threshold = 0.2\n",
       "Recall           32.261307        59.296482\n",
       "Precision        69.782609        48.084760"
      ]
     },
     "execution_count": 32,
     "metadata": {},
     "output_type": "execute_result"
    }
   ],
   "source": [
    "probability = LR.predict_proba(X_test)[:,1]\n",
    "comparision_df, confusion_df = adjust_threshold(probability, 0.2, y_test)\n",
    "comparision_df"
   ]
  },
  {
   "cell_type": "markdown",
   "id": "276027dd",
   "metadata": {},
   "source": [
    "## To make a prediction"
   ]
  },
  {
   "cell_type": "markdown",
   "id": "a2c0ad73",
   "metadata": {},
   "source": [
    "Now, let's retrain the best model with all the observed data, then use it to do prediction for a new costumer with a given set of input data.\n",
    "\n",
    "The best model in this case is the Naive Bayes model and we prefer to try a threshold of 0.2 to make the prediction."
   ]
  },
  {
   "cell_type": "code",
   "execution_count": 33,
   "id": "a89509cc",
   "metadata": {},
   "outputs": [],
   "source": [
    "new_customer = OrderedDict([('limit_bal', 4000), ('age', 50), ('bill_amt1', 500),\n",
    "                            ('bill_amt2', 35509), ('bill_amt3', 689), ('bill_amt4', 0),\n",
    "                            ('bill_amt5',0), ('bill_amt6',0), ('pay_amt1', 0),('pay_amt2', 35509),\n",
    "                            ('pay_amt3', 0), ('pay_amt4', 0),('pay_amt5',0), ('pay_amt6',0),\n",
    "                            ('male', 1), ('married',1), ('grad_school', 0), ('university',1),\n",
    "                            ('high_school',0), ('pay_0', -1),('pay_2', -1),\n",
    "                            ('pay_3', -1), ('pay_4', 0),('pay_5',-1), ('pay_6',0)])\n",
    "new_costomer = pd.Series(new_customer)"
   ]
  },
  {
   "cell_type": "code",
   "execution_count": 34,
   "id": "9db5a13f",
   "metadata": {
    "scrolled": true
   },
   "outputs": [
    {
     "data": {
      "text/plain": [
       "'Will Default'"
      ]
     },
     "execution_count": 34,
     "metadata": {},
     "output_type": "execute_result"
    }
   ],
   "source": [
    "make_predict(new_costomer, model = NB, scaler = RS, threshold = 0.2)"
   ]
  },
  {
   "cell_type": "code",
   "execution_count": 35,
   "id": "358dd71b",
   "metadata": {
    "scrolled": false
   },
   "outputs": [
    {
     "data": {
      "text/plain": [
       "'Will Default'"
      ]
     },
     "execution_count": 35,
     "metadata": {},
     "output_type": "execute_result"
    }
   ],
   "source": [
    "make_predict(new_costomer, model = LR, scaler = RS, threshold = 0.2)"
   ]
  },
  {
   "cell_type": "markdown",
   "id": "e4fa476d",
   "metadata": {},
   "source": [
    "#### Conclusion:\n",
    "The trained models predict that the new customer will default."
   ]
  },
  {
   "cell_type": "markdown",
   "id": "e083c75e",
   "metadata": {},
   "source": [
    "## Improving the predictability"
   ]
  },
  {
   "cell_type": "markdown",
   "id": "0ee22375",
   "metadata": {},
   "source": [
    "### Try other models"
   ]
  },
  {
   "cell_type": "markdown",
   "id": "eb4dfb55",
   "metadata": {},
   "source": [
    "#### Random Forest Model"
   ]
  },
  {
   "cell_type": "code",
   "execution_count": 37,
   "id": "0ed9098e",
   "metadata": {
    "scrolled": true
   },
   "outputs": [
    {
     "name": "stdout",
     "output_type": "stream",
     "text": [
      "Accuracy, Precision, Recall\n"
     ]
    },
    {
     "data": {
      "text/plain": [
       "(0.8175555555555556, 0.6593406593406593, 0.36180904522613067)"
      ]
     },
     "execution_count": 37,
     "metadata": {},
     "output_type": "execute_result"
    }
   ],
   "source": [
    "RF = RandomForestClassifier(random_state = 123)\n",
    "RF.fit(X_train, y_train)\n",
    "y_pred_test = RF.predict(X_test)\n",
    "analyze_prediction(y_pred_test, y_test, result_matrix = models, model_name = \"RandomForest\")"
   ]
  },
  {
   "cell_type": "markdown",
   "id": "c3512f3e",
   "metadata": {},
   "source": [
    "#### XGBoost Model"
   ]
  },
  {
   "cell_type": "code",
   "execution_count": 38,
   "id": "06e78fda",
   "metadata": {
    "scrolled": true
   },
   "outputs": [
    {
     "name": "stderr",
     "output_type": "stream",
     "text": [
      "C:\\Users\\tohid\\anaconda3\\envs\\myland\\lib\\site-packages\\xgboost\\sklearn.py:888: UserWarning: The use of label encoder in XGBClassifier is deprecated and will be removed in a future release. To remove this warning, do the following: 1) Pass option use_label_encoder=False when constructing XGBClassifier object; and 2) Encode your labels (y) as integers starting with 0, i.e. 0, 1, 2, ..., [num_class - 1].\n",
      "  warnings.warn(label_encoder_deprecation_msg, UserWarning)\n"
     ]
    },
    {
     "name": "stdout",
     "output_type": "stream",
     "text": [
      "Accuracy, Precision, Recall\n"
     ]
    },
    {
     "data": {
      "text/plain": [
       "(0.8175555555555556, 0.6605166051660517, 0.3597989949748744)"
      ]
     },
     "execution_count": 38,
     "metadata": {},
     "output_type": "execute_result"
    }
   ],
   "source": [
    "XGB = XGBClassifier(random_state = 123, n_jobs = -1, eval_metric = 'logloss', verbosity = 0)\n",
    "XGB.fit(X_train, y_train)\n",
    "y_pred_test = XGB.predict(X_test)\n",
    "analyze_prediction(y_pred_test, y_test, result_matrix = models, model_name = \"XGBoost\")"
   ]
  },
  {
   "cell_type": "code",
   "execution_count": 39,
   "id": "89a94909",
   "metadata": {
    "scrolled": false
   },
   "outputs": [
    {
     "data": {
      "text/html": [
       "<div>\n",
       "<style scoped>\n",
       "    .dataframe tbody tr th:only-of-type {\n",
       "        vertical-align: middle;\n",
       "    }\n",
       "\n",
       "    .dataframe tbody tr th {\n",
       "        vertical-align: top;\n",
       "    }\n",
       "\n",
       "    .dataframe thead th {\n",
       "        text-align: right;\n",
       "    }\n",
       "</style>\n",
       "<table border=\"1\" class=\"dataframe\">\n",
       "  <thead>\n",
       "    <tr style=\"text-align: right;\">\n",
       "      <th></th>\n",
       "      <th>NULL</th>\n",
       "      <th>LogisticReg</th>\n",
       "      <th>ClassTree</th>\n",
       "      <th>NaiveBayes</th>\n",
       "      <th>RandomForest</th>\n",
       "      <th>XGBoost</th>\n",
       "    </tr>\n",
       "  </thead>\n",
       "  <tbody>\n",
       "    <tr>\n",
       "      <th>accuracy</th>\n",
       "      <td>77.888889</td>\n",
       "      <td>81.933333</td>\n",
       "      <td>78.866667</td>\n",
       "      <td>77.044444</td>\n",
       "      <td>81.755556</td>\n",
       "      <td>81.755556</td>\n",
       "    </tr>\n",
       "    <tr>\n",
       "      <th>precision</th>\n",
       "      <td>0.0</td>\n",
       "      <td>69.782609</td>\n",
       "      <td>53.216374</td>\n",
       "      <td>48.344948</td>\n",
       "      <td>65.934066</td>\n",
       "      <td>66.051661</td>\n",
       "    </tr>\n",
       "    <tr>\n",
       "      <th>recall</th>\n",
       "      <td>0.0</td>\n",
       "      <td>32.261307</td>\n",
       "      <td>36.582915</td>\n",
       "      <td>55.778894</td>\n",
       "      <td>36.180905</td>\n",
       "      <td>35.979899</td>\n",
       "    </tr>\n",
       "  </tbody>\n",
       "</table>\n",
       "</div>"
      ],
      "text/plain": [
       "                NULL LogisticReg  ClassTree NaiveBayes  RandomForest  \\\n",
       "accuracy   77.888889   81.933333  78.866667  77.044444     81.755556   \n",
       "precision        0.0   69.782609  53.216374  48.344948     65.934066   \n",
       "recall           0.0   32.261307  36.582915  55.778894     36.180905   \n",
       "\n",
       "             XGBoost  \n",
       "accuracy   81.755556  \n",
       "precision  66.051661  \n",
       "recall     35.979899  "
      ]
     },
     "execution_count": 39,
     "metadata": {},
     "output_type": "execute_result"
    }
   ],
   "source": [
    "models"
   ]
  },
  {
   "cell_type": "markdown",
   "id": "5824d27e",
   "metadata": {},
   "source": [
    "# hyperparameter tunning"
   ]
  },
  {
   "cell_type": "markdown",
   "id": "614b72f2",
   "metadata": {},
   "source": [
    "### Optimizing the parameters of Random Forest and XGBoost models"
   ]
  },
  {
   "cell_type": "markdown",
   "id": "e26dea07",
   "metadata": {},
   "source": [
    "#### Optimization of Random Forest model"
   ]
  },
  {
   "cell_type": "code",
   "execution_count": 41,
   "id": "cc46b04a",
   "metadata": {},
   "outputs": [
    {
     "data": {
      "text/plain": [
       "{'max_features': 13, 'min_samples_split': 5, 'n_estimators': 50}"
      ]
     },
     "execution_count": 41,
     "metadata": {},
     "output_type": "execute_result"
    }
   ],
   "source": [
    "RF = RandomForestClassifier(random_state = 123)\n",
    "cnt = int(default.shape[1]/2)\n",
    "parameters = {'n_estimators':[50 , 100, 200],\n",
    "              'min_samples_split': [2,5,10],\n",
    "              'max_features': ['auto', cnt]}\n",
    "clf = GridSearchCV(RF, parameters, cv = 5, scoring = \"recall\")\n",
    "clf.fit(X_train, y_train)\n",
    "clf.best_params_"
   ]
  },
  {
   "cell_type": "code",
   "execution_count": 42,
   "id": "7e878460",
   "metadata": {},
   "outputs": [
    {
     "name": "stdout",
     "output_type": "stream",
     "text": [
      "Accuracy, Precision, Recall\n"
     ]
    },
    {
     "data": {
      "text/plain": [
       "(0.816, 0.6504504504504505, 0.3628140703517588)"
      ]
     },
     "execution_count": 42,
     "metadata": {},
     "output_type": "execute_result"
    }
   ],
   "source": [
    "RFopt = RandomForestClassifier(max_features = 13, min_samples_split = 2, n_estimators = 200,\n",
    "                            random_state = 123)\n",
    "\n",
    "RFopt.fit(X_train, y_train)\n",
    "y_pred_test = RFopt.predict(X_test)\n",
    "analyze_prediction(y_pred_test, y_test, result_matrix = models, model_name = \"RandomForest\")"
   ]
  },
  {
   "cell_type": "markdown",
   "id": "d13cc04f",
   "metadata": {},
   "source": [
    "#### Optimization of XGBoost model"
   ]
  },
  {
   "cell_type": "code",
   "execution_count": 43,
   "id": "8b0e8a46",
   "metadata": {},
   "outputs": [
    {
     "name": "stderr",
     "output_type": "stream",
     "text": [
      "C:\\Users\\tohid\\anaconda3\\envs\\myland\\lib\\site-packages\\xgboost\\sklearn.py:888: UserWarning: The use of label encoder in XGBClassifier is deprecated and will be removed in a future release. To remove this warning, do the following: 1) Pass option use_label_encoder=False when constructing XGBClassifier object; and 2) Encode your labels (y) as integers starting with 0, i.e. 0, 1, 2, ..., [num_class - 1].\n",
      "  warnings.warn(label_encoder_deprecation_msg, UserWarning)\n",
      "C:\\Users\\tohid\\anaconda3\\envs\\myland\\lib\\site-packages\\xgboost\\sklearn.py:888: UserWarning: The use of label encoder in XGBClassifier is deprecated and will be removed in a future release. To remove this warning, do the following: 1) Pass option use_label_encoder=False when constructing XGBClassifier object; and 2) Encode your labels (y) as integers starting with 0, i.e. 0, 1, 2, ..., [num_class - 1].\n",
      "  warnings.warn(label_encoder_deprecation_msg, UserWarning)\n",
      "C:\\Users\\tohid\\anaconda3\\envs\\myland\\lib\\site-packages\\xgboost\\sklearn.py:888: UserWarning: The use of label encoder in XGBClassifier is deprecated and will be removed in a future release. To remove this warning, do the following: 1) Pass option use_label_encoder=False when constructing XGBClassifier object; and 2) Encode your labels (y) as integers starting with 0, i.e. 0, 1, 2, ..., [num_class - 1].\n",
      "  warnings.warn(label_encoder_deprecation_msg, UserWarning)\n",
      "C:\\Users\\tohid\\anaconda3\\envs\\myland\\lib\\site-packages\\xgboost\\sklearn.py:888: UserWarning: The use of label encoder in XGBClassifier is deprecated and will be removed in a future release. To remove this warning, do the following: 1) Pass option use_label_encoder=False when constructing XGBClassifier object; and 2) Encode your labels (y) as integers starting with 0, i.e. 0, 1, 2, ..., [num_class - 1].\n",
      "  warnings.warn(label_encoder_deprecation_msg, UserWarning)\n",
      "C:\\Users\\tohid\\anaconda3\\envs\\myland\\lib\\site-packages\\xgboost\\sklearn.py:888: UserWarning: The use of label encoder in XGBClassifier is deprecated and will be removed in a future release. To remove this warning, do the following: 1) Pass option use_label_encoder=False when constructing XGBClassifier object; and 2) Encode your labels (y) as integers starting with 0, i.e. 0, 1, 2, ..., [num_class - 1].\n",
      "  warnings.warn(label_encoder_deprecation_msg, UserWarning)\n",
      "C:\\Users\\tohid\\anaconda3\\envs\\myland\\lib\\site-packages\\xgboost\\sklearn.py:888: UserWarning: The use of label encoder in XGBClassifier is deprecated and will be removed in a future release. To remove this warning, do the following: 1) Pass option use_label_encoder=False when constructing XGBClassifier object; and 2) Encode your labels (y) as integers starting with 0, i.e. 0, 1, 2, ..., [num_class - 1].\n",
      "  warnings.warn(label_encoder_deprecation_msg, UserWarning)\n",
      "C:\\Users\\tohid\\anaconda3\\envs\\myland\\lib\\site-packages\\xgboost\\sklearn.py:888: UserWarning: The use of label encoder in XGBClassifier is deprecated and will be removed in a future release. To remove this warning, do the following: 1) Pass option use_label_encoder=False when constructing XGBClassifier object; and 2) Encode your labels (y) as integers starting with 0, i.e. 0, 1, 2, ..., [num_class - 1].\n",
      "  warnings.warn(label_encoder_deprecation_msg, UserWarning)\n",
      "C:\\Users\\tohid\\anaconda3\\envs\\myland\\lib\\site-packages\\xgboost\\sklearn.py:888: UserWarning: The use of label encoder in XGBClassifier is deprecated and will be removed in a future release. To remove this warning, do the following: 1) Pass option use_label_encoder=False when constructing XGBClassifier object; and 2) Encode your labels (y) as integers starting with 0, i.e. 0, 1, 2, ..., [num_class - 1].\n",
      "  warnings.warn(label_encoder_deprecation_msg, UserWarning)\n",
      "C:\\Users\\tohid\\anaconda3\\envs\\myland\\lib\\site-packages\\xgboost\\sklearn.py:888: UserWarning: The use of label encoder in XGBClassifier is deprecated and will be removed in a future release. To remove this warning, do the following: 1) Pass option use_label_encoder=False when constructing XGBClassifier object; and 2) Encode your labels (y) as integers starting with 0, i.e. 0, 1, 2, ..., [num_class - 1].\n",
      "  warnings.warn(label_encoder_deprecation_msg, UserWarning)\n",
      "C:\\Users\\tohid\\anaconda3\\envs\\myland\\lib\\site-packages\\xgboost\\sklearn.py:888: UserWarning: The use of label encoder in XGBClassifier is deprecated and will be removed in a future release. To remove this warning, do the following: 1) Pass option use_label_encoder=False when constructing XGBClassifier object; and 2) Encode your labels (y) as integers starting with 0, i.e. 0, 1, 2, ..., [num_class - 1].\n",
      "  warnings.warn(label_encoder_deprecation_msg, UserWarning)\n",
      "C:\\Users\\tohid\\anaconda3\\envs\\myland\\lib\\site-packages\\xgboost\\sklearn.py:888: UserWarning: The use of label encoder in XGBClassifier is deprecated and will be removed in a future release. To remove this warning, do the following: 1) Pass option use_label_encoder=False when constructing XGBClassifier object; and 2) Encode your labels (y) as integers starting with 0, i.e. 0, 1, 2, ..., [num_class - 1].\n",
      "  warnings.warn(label_encoder_deprecation_msg, UserWarning)\n",
      "C:\\Users\\tohid\\anaconda3\\envs\\myland\\lib\\site-packages\\xgboost\\sklearn.py:888: UserWarning: The use of label encoder in XGBClassifier is deprecated and will be removed in a future release. To remove this warning, do the following: 1) Pass option use_label_encoder=False when constructing XGBClassifier object; and 2) Encode your labels (y) as integers starting with 0, i.e. 0, 1, 2, ..., [num_class - 1].\n",
      "  warnings.warn(label_encoder_deprecation_msg, UserWarning)\n",
      "C:\\Users\\tohid\\anaconda3\\envs\\myland\\lib\\site-packages\\xgboost\\sklearn.py:888: UserWarning: The use of label encoder in XGBClassifier is deprecated and will be removed in a future release. To remove this warning, do the following: 1) Pass option use_label_encoder=False when constructing XGBClassifier object; and 2) Encode your labels (y) as integers starting with 0, i.e. 0, 1, 2, ..., [num_class - 1].\n",
      "  warnings.warn(label_encoder_deprecation_msg, UserWarning)\n",
      "C:\\Users\\tohid\\anaconda3\\envs\\myland\\lib\\site-packages\\xgboost\\sklearn.py:888: UserWarning: The use of label encoder in XGBClassifier is deprecated and will be removed in a future release. To remove this warning, do the following: 1) Pass option use_label_encoder=False when constructing XGBClassifier object; and 2) Encode your labels (y) as integers starting with 0, i.e. 0, 1, 2, ..., [num_class - 1].\n",
      "  warnings.warn(label_encoder_deprecation_msg, UserWarning)\n",
      "C:\\Users\\tohid\\anaconda3\\envs\\myland\\lib\\site-packages\\xgboost\\sklearn.py:888: UserWarning: The use of label encoder in XGBClassifier is deprecated and will be removed in a future release. To remove this warning, do the following: 1) Pass option use_label_encoder=False when constructing XGBClassifier object; and 2) Encode your labels (y) as integers starting with 0, i.e. 0, 1, 2, ..., [num_class - 1].\n",
      "  warnings.warn(label_encoder_deprecation_msg, UserWarning)\n",
      "C:\\Users\\tohid\\anaconda3\\envs\\myland\\lib\\site-packages\\xgboost\\sklearn.py:888: UserWarning: The use of label encoder in XGBClassifier is deprecated and will be removed in a future release. To remove this warning, do the following: 1) Pass option use_label_encoder=False when constructing XGBClassifier object; and 2) Encode your labels (y) as integers starting with 0, i.e. 0, 1, 2, ..., [num_class - 1].\n",
      "  warnings.warn(label_encoder_deprecation_msg, UserWarning)\n",
      "C:\\Users\\tohid\\anaconda3\\envs\\myland\\lib\\site-packages\\xgboost\\sklearn.py:888: UserWarning: The use of label encoder in XGBClassifier is deprecated and will be removed in a future release. To remove this warning, do the following: 1) Pass option use_label_encoder=False when constructing XGBClassifier object; and 2) Encode your labels (y) as integers starting with 0, i.e. 0, 1, 2, ..., [num_class - 1].\n",
      "  warnings.warn(label_encoder_deprecation_msg, UserWarning)\n",
      "C:\\Users\\tohid\\anaconda3\\envs\\myland\\lib\\site-packages\\xgboost\\sklearn.py:888: UserWarning: The use of label encoder in XGBClassifier is deprecated and will be removed in a future release. To remove this warning, do the following: 1) Pass option use_label_encoder=False when constructing XGBClassifier object; and 2) Encode your labels (y) as integers starting with 0, i.e. 0, 1, 2, ..., [num_class - 1].\n",
      "  warnings.warn(label_encoder_deprecation_msg, UserWarning)\n"
     ]
    },
    {
     "name": "stderr",
     "output_type": "stream",
     "text": [
      "C:\\Users\\tohid\\anaconda3\\envs\\myland\\lib\\site-packages\\xgboost\\sklearn.py:888: UserWarning: The use of label encoder in XGBClassifier is deprecated and will be removed in a future release. To remove this warning, do the following: 1) Pass option use_label_encoder=False when constructing XGBClassifier object; and 2) Encode your labels (y) as integers starting with 0, i.e. 0, 1, 2, ..., [num_class - 1].\n",
      "  warnings.warn(label_encoder_deprecation_msg, UserWarning)\n",
      "C:\\Users\\tohid\\anaconda3\\envs\\myland\\lib\\site-packages\\xgboost\\sklearn.py:888: UserWarning: The use of label encoder in XGBClassifier is deprecated and will be removed in a future release. To remove this warning, do the following: 1) Pass option use_label_encoder=False when constructing XGBClassifier object; and 2) Encode your labels (y) as integers starting with 0, i.e. 0, 1, 2, ..., [num_class - 1].\n",
      "  warnings.warn(label_encoder_deprecation_msg, UserWarning)\n",
      "C:\\Users\\tohid\\anaconda3\\envs\\myland\\lib\\site-packages\\xgboost\\sklearn.py:888: UserWarning: The use of label encoder in XGBClassifier is deprecated and will be removed in a future release. To remove this warning, do the following: 1) Pass option use_label_encoder=False when constructing XGBClassifier object; and 2) Encode your labels (y) as integers starting with 0, i.e. 0, 1, 2, ..., [num_class - 1].\n",
      "  warnings.warn(label_encoder_deprecation_msg, UserWarning)\n",
      "C:\\Users\\tohid\\anaconda3\\envs\\myland\\lib\\site-packages\\xgboost\\sklearn.py:888: UserWarning: The use of label encoder in XGBClassifier is deprecated and will be removed in a future release. To remove this warning, do the following: 1) Pass option use_label_encoder=False when constructing XGBClassifier object; and 2) Encode your labels (y) as integers starting with 0, i.e. 0, 1, 2, ..., [num_class - 1].\n",
      "  warnings.warn(label_encoder_deprecation_msg, UserWarning)\n",
      "C:\\Users\\tohid\\anaconda3\\envs\\myland\\lib\\site-packages\\xgboost\\sklearn.py:888: UserWarning: The use of label encoder in XGBClassifier is deprecated and will be removed in a future release. To remove this warning, do the following: 1) Pass option use_label_encoder=False when constructing XGBClassifier object; and 2) Encode your labels (y) as integers starting with 0, i.e. 0, 1, 2, ..., [num_class - 1].\n",
      "  warnings.warn(label_encoder_deprecation_msg, UserWarning)\n",
      "C:\\Users\\tohid\\anaconda3\\envs\\myland\\lib\\site-packages\\xgboost\\sklearn.py:888: UserWarning: The use of label encoder in XGBClassifier is deprecated and will be removed in a future release. To remove this warning, do the following: 1) Pass option use_label_encoder=False when constructing XGBClassifier object; and 2) Encode your labels (y) as integers starting with 0, i.e. 0, 1, 2, ..., [num_class - 1].\n",
      "  warnings.warn(label_encoder_deprecation_msg, UserWarning)\n",
      "C:\\Users\\tohid\\anaconda3\\envs\\myland\\lib\\site-packages\\xgboost\\sklearn.py:888: UserWarning: The use of label encoder in XGBClassifier is deprecated and will be removed in a future release. To remove this warning, do the following: 1) Pass option use_label_encoder=False when constructing XGBClassifier object; and 2) Encode your labels (y) as integers starting with 0, i.e. 0, 1, 2, ..., [num_class - 1].\n",
      "  warnings.warn(label_encoder_deprecation_msg, UserWarning)\n",
      "C:\\Users\\tohid\\anaconda3\\envs\\myland\\lib\\site-packages\\xgboost\\sklearn.py:888: UserWarning: The use of label encoder in XGBClassifier is deprecated and will be removed in a future release. To remove this warning, do the following: 1) Pass option use_label_encoder=False when constructing XGBClassifier object; and 2) Encode your labels (y) as integers starting with 0, i.e. 0, 1, 2, ..., [num_class - 1].\n",
      "  warnings.warn(label_encoder_deprecation_msg, UserWarning)\n",
      "C:\\Users\\tohid\\anaconda3\\envs\\myland\\lib\\site-packages\\xgboost\\sklearn.py:888: UserWarning: The use of label encoder in XGBClassifier is deprecated and will be removed in a future release. To remove this warning, do the following: 1) Pass option use_label_encoder=False when constructing XGBClassifier object; and 2) Encode your labels (y) as integers starting with 0, i.e. 0, 1, 2, ..., [num_class - 1].\n",
      "  warnings.warn(label_encoder_deprecation_msg, UserWarning)\n",
      "C:\\Users\\tohid\\anaconda3\\envs\\myland\\lib\\site-packages\\xgboost\\sklearn.py:888: UserWarning: The use of label encoder in XGBClassifier is deprecated and will be removed in a future release. To remove this warning, do the following: 1) Pass option use_label_encoder=False when constructing XGBClassifier object; and 2) Encode your labels (y) as integers starting with 0, i.e. 0, 1, 2, ..., [num_class - 1].\n",
      "  warnings.warn(label_encoder_deprecation_msg, UserWarning)\n",
      "C:\\Users\\tohid\\anaconda3\\envs\\myland\\lib\\site-packages\\xgboost\\sklearn.py:888: UserWarning: The use of label encoder in XGBClassifier is deprecated and will be removed in a future release. To remove this warning, do the following: 1) Pass option use_label_encoder=False when constructing XGBClassifier object; and 2) Encode your labels (y) as integers starting with 0, i.e. 0, 1, 2, ..., [num_class - 1].\n",
      "  warnings.warn(label_encoder_deprecation_msg, UserWarning)\n",
      "C:\\Users\\tohid\\anaconda3\\envs\\myland\\lib\\site-packages\\xgboost\\sklearn.py:888: UserWarning: The use of label encoder in XGBClassifier is deprecated and will be removed in a future release. To remove this warning, do the following: 1) Pass option use_label_encoder=False when constructing XGBClassifier object; and 2) Encode your labels (y) as integers starting with 0, i.e. 0, 1, 2, ..., [num_class - 1].\n",
      "  warnings.warn(label_encoder_deprecation_msg, UserWarning)\n",
      "C:\\Users\\tohid\\anaconda3\\envs\\myland\\lib\\site-packages\\xgboost\\sklearn.py:888: UserWarning: The use of label encoder in XGBClassifier is deprecated and will be removed in a future release. To remove this warning, do the following: 1) Pass option use_label_encoder=False when constructing XGBClassifier object; and 2) Encode your labels (y) as integers starting with 0, i.e. 0, 1, 2, ..., [num_class - 1].\n",
      "  warnings.warn(label_encoder_deprecation_msg, UserWarning)\n",
      "C:\\Users\\tohid\\anaconda3\\envs\\myland\\lib\\site-packages\\xgboost\\sklearn.py:888: UserWarning: The use of label encoder in XGBClassifier is deprecated and will be removed in a future release. To remove this warning, do the following: 1) Pass option use_label_encoder=False when constructing XGBClassifier object; and 2) Encode your labels (y) as integers starting with 0, i.e. 0, 1, 2, ..., [num_class - 1].\n",
      "  warnings.warn(label_encoder_deprecation_msg, UserWarning)\n",
      "C:\\Users\\tohid\\anaconda3\\envs\\myland\\lib\\site-packages\\xgboost\\sklearn.py:888: UserWarning: The use of label encoder in XGBClassifier is deprecated and will be removed in a future release. To remove this warning, do the following: 1) Pass option use_label_encoder=False when constructing XGBClassifier object; and 2) Encode your labels (y) as integers starting with 0, i.e. 0, 1, 2, ..., [num_class - 1].\n",
      "  warnings.warn(label_encoder_deprecation_msg, UserWarning)\n",
      "C:\\Users\\tohid\\anaconda3\\envs\\myland\\lib\\site-packages\\xgboost\\sklearn.py:888: UserWarning: The use of label encoder in XGBClassifier is deprecated and will be removed in a future release. To remove this warning, do the following: 1) Pass option use_label_encoder=False when constructing XGBClassifier object; and 2) Encode your labels (y) as integers starting with 0, i.e. 0, 1, 2, ..., [num_class - 1].\n",
      "  warnings.warn(label_encoder_deprecation_msg, UserWarning)\n",
      "C:\\Users\\tohid\\anaconda3\\envs\\myland\\lib\\site-packages\\xgboost\\sklearn.py:888: UserWarning: The use of label encoder in XGBClassifier is deprecated and will be removed in a future release. To remove this warning, do the following: 1) Pass option use_label_encoder=False when constructing XGBClassifier object; and 2) Encode your labels (y) as integers starting with 0, i.e. 0, 1, 2, ..., [num_class - 1].\n",
      "  warnings.warn(label_encoder_deprecation_msg, UserWarning)\n",
      "C:\\Users\\tohid\\anaconda3\\envs\\myland\\lib\\site-packages\\xgboost\\sklearn.py:888: UserWarning: The use of label encoder in XGBClassifier is deprecated and will be removed in a future release. To remove this warning, do the following: 1) Pass option use_label_encoder=False when constructing XGBClassifier object; and 2) Encode your labels (y) as integers starting with 0, i.e. 0, 1, 2, ..., [num_class - 1].\n",
      "  warnings.warn(label_encoder_deprecation_msg, UserWarning)\n"
     ]
    },
    {
     "name": "stderr",
     "output_type": "stream",
     "text": [
      "C:\\Users\\tohid\\anaconda3\\envs\\myland\\lib\\site-packages\\xgboost\\sklearn.py:888: UserWarning: The use of label encoder in XGBClassifier is deprecated and will be removed in a future release. To remove this warning, do the following: 1) Pass option use_label_encoder=False when constructing XGBClassifier object; and 2) Encode your labels (y) as integers starting with 0, i.e. 0, 1, 2, ..., [num_class - 1].\n",
      "  warnings.warn(label_encoder_deprecation_msg, UserWarning)\n",
      "C:\\Users\\tohid\\anaconda3\\envs\\myland\\lib\\site-packages\\xgboost\\sklearn.py:888: UserWarning: The use of label encoder in XGBClassifier is deprecated and will be removed in a future release. To remove this warning, do the following: 1) Pass option use_label_encoder=False when constructing XGBClassifier object; and 2) Encode your labels (y) as integers starting with 0, i.e. 0, 1, 2, ..., [num_class - 1].\n",
      "  warnings.warn(label_encoder_deprecation_msg, UserWarning)\n",
      "C:\\Users\\tohid\\anaconda3\\envs\\myland\\lib\\site-packages\\xgboost\\sklearn.py:888: UserWarning: The use of label encoder in XGBClassifier is deprecated and will be removed in a future release. To remove this warning, do the following: 1) Pass option use_label_encoder=False when constructing XGBClassifier object; and 2) Encode your labels (y) as integers starting with 0, i.e. 0, 1, 2, ..., [num_class - 1].\n",
      "  warnings.warn(label_encoder_deprecation_msg, UserWarning)\n",
      "C:\\Users\\tohid\\anaconda3\\envs\\myland\\lib\\site-packages\\xgboost\\sklearn.py:888: UserWarning: The use of label encoder in XGBClassifier is deprecated and will be removed in a future release. To remove this warning, do the following: 1) Pass option use_label_encoder=False when constructing XGBClassifier object; and 2) Encode your labels (y) as integers starting with 0, i.e. 0, 1, 2, ..., [num_class - 1].\n",
      "  warnings.warn(label_encoder_deprecation_msg, UserWarning)\n",
      "C:\\Users\\tohid\\anaconda3\\envs\\myland\\lib\\site-packages\\xgboost\\sklearn.py:888: UserWarning: The use of label encoder in XGBClassifier is deprecated and will be removed in a future release. To remove this warning, do the following: 1) Pass option use_label_encoder=False when constructing XGBClassifier object; and 2) Encode your labels (y) as integers starting with 0, i.e. 0, 1, 2, ..., [num_class - 1].\n",
      "  warnings.warn(label_encoder_deprecation_msg, UserWarning)\n",
      "C:\\Users\\tohid\\anaconda3\\envs\\myland\\lib\\site-packages\\xgboost\\sklearn.py:888: UserWarning: The use of label encoder in XGBClassifier is deprecated and will be removed in a future release. To remove this warning, do the following: 1) Pass option use_label_encoder=False when constructing XGBClassifier object; and 2) Encode your labels (y) as integers starting with 0, i.e. 0, 1, 2, ..., [num_class - 1].\n",
      "  warnings.warn(label_encoder_deprecation_msg, UserWarning)\n",
      "C:\\Users\\tohid\\anaconda3\\envs\\myland\\lib\\site-packages\\xgboost\\sklearn.py:888: UserWarning: The use of label encoder in XGBClassifier is deprecated and will be removed in a future release. To remove this warning, do the following: 1) Pass option use_label_encoder=False when constructing XGBClassifier object; and 2) Encode your labels (y) as integers starting with 0, i.e. 0, 1, 2, ..., [num_class - 1].\n",
      "  warnings.warn(label_encoder_deprecation_msg, UserWarning)\n",
      "C:\\Users\\tohid\\anaconda3\\envs\\myland\\lib\\site-packages\\xgboost\\sklearn.py:888: UserWarning: The use of label encoder in XGBClassifier is deprecated and will be removed in a future release. To remove this warning, do the following: 1) Pass option use_label_encoder=False when constructing XGBClassifier object; and 2) Encode your labels (y) as integers starting with 0, i.e. 0, 1, 2, ..., [num_class - 1].\n",
      "  warnings.warn(label_encoder_deprecation_msg, UserWarning)\n",
      "C:\\Users\\tohid\\anaconda3\\envs\\myland\\lib\\site-packages\\xgboost\\sklearn.py:888: UserWarning: The use of label encoder in XGBClassifier is deprecated and will be removed in a future release. To remove this warning, do the following: 1) Pass option use_label_encoder=False when constructing XGBClassifier object; and 2) Encode your labels (y) as integers starting with 0, i.e. 0, 1, 2, ..., [num_class - 1].\n",
      "  warnings.warn(label_encoder_deprecation_msg, UserWarning)\n",
      "C:\\Users\\tohid\\anaconda3\\envs\\myland\\lib\\site-packages\\xgboost\\sklearn.py:888: UserWarning: The use of label encoder in XGBClassifier is deprecated and will be removed in a future release. To remove this warning, do the following: 1) Pass option use_label_encoder=False when constructing XGBClassifier object; and 2) Encode your labels (y) as integers starting with 0, i.e. 0, 1, 2, ..., [num_class - 1].\n",
      "  warnings.warn(label_encoder_deprecation_msg, UserWarning)\n",
      "C:\\Users\\tohid\\anaconda3\\envs\\myland\\lib\\site-packages\\xgboost\\sklearn.py:888: UserWarning: The use of label encoder in XGBClassifier is deprecated and will be removed in a future release. To remove this warning, do the following: 1) Pass option use_label_encoder=False when constructing XGBClassifier object; and 2) Encode your labels (y) as integers starting with 0, i.e. 0, 1, 2, ..., [num_class - 1].\n",
      "  warnings.warn(label_encoder_deprecation_msg, UserWarning)\n",
      "C:\\Users\\tohid\\anaconda3\\envs\\myland\\lib\\site-packages\\xgboost\\sklearn.py:888: UserWarning: The use of label encoder in XGBClassifier is deprecated and will be removed in a future release. To remove this warning, do the following: 1) Pass option use_label_encoder=False when constructing XGBClassifier object; and 2) Encode your labels (y) as integers starting with 0, i.e. 0, 1, 2, ..., [num_class - 1].\n",
      "  warnings.warn(label_encoder_deprecation_msg, UserWarning)\n",
      "C:\\Users\\tohid\\anaconda3\\envs\\myland\\lib\\site-packages\\xgboost\\sklearn.py:888: UserWarning: The use of label encoder in XGBClassifier is deprecated and will be removed in a future release. To remove this warning, do the following: 1) Pass option use_label_encoder=False when constructing XGBClassifier object; and 2) Encode your labels (y) as integers starting with 0, i.e. 0, 1, 2, ..., [num_class - 1].\n",
      "  warnings.warn(label_encoder_deprecation_msg, UserWarning)\n",
      "C:\\Users\\tohid\\anaconda3\\envs\\myland\\lib\\site-packages\\xgboost\\sklearn.py:888: UserWarning: The use of label encoder in XGBClassifier is deprecated and will be removed in a future release. To remove this warning, do the following: 1) Pass option use_label_encoder=False when constructing XGBClassifier object; and 2) Encode your labels (y) as integers starting with 0, i.e. 0, 1, 2, ..., [num_class - 1].\n",
      "  warnings.warn(label_encoder_deprecation_msg, UserWarning)\n",
      "C:\\Users\\tohid\\anaconda3\\envs\\myland\\lib\\site-packages\\xgboost\\sklearn.py:888: UserWarning: The use of label encoder in XGBClassifier is deprecated and will be removed in a future release. To remove this warning, do the following: 1) Pass option use_label_encoder=False when constructing XGBClassifier object; and 2) Encode your labels (y) as integers starting with 0, i.e. 0, 1, 2, ..., [num_class - 1].\n",
      "  warnings.warn(label_encoder_deprecation_msg, UserWarning)\n",
      "C:\\Users\\tohid\\anaconda3\\envs\\myland\\lib\\site-packages\\xgboost\\sklearn.py:888: UserWarning: The use of label encoder in XGBClassifier is deprecated and will be removed in a future release. To remove this warning, do the following: 1) Pass option use_label_encoder=False when constructing XGBClassifier object; and 2) Encode your labels (y) as integers starting with 0, i.e. 0, 1, 2, ..., [num_class - 1].\n",
      "  warnings.warn(label_encoder_deprecation_msg, UserWarning)\n",
      "C:\\Users\\tohid\\anaconda3\\envs\\myland\\lib\\site-packages\\xgboost\\sklearn.py:888: UserWarning: The use of label encoder in XGBClassifier is deprecated and will be removed in a future release. To remove this warning, do the following: 1) Pass option use_label_encoder=False when constructing XGBClassifier object; and 2) Encode your labels (y) as integers starting with 0, i.e. 0, 1, 2, ..., [num_class - 1].\n",
      "  warnings.warn(label_encoder_deprecation_msg, UserWarning)\n",
      "C:\\Users\\tohid\\anaconda3\\envs\\myland\\lib\\site-packages\\xgboost\\sklearn.py:888: UserWarning: The use of label encoder in XGBClassifier is deprecated and will be removed in a future release. To remove this warning, do the following: 1) Pass option use_label_encoder=False when constructing XGBClassifier object; and 2) Encode your labels (y) as integers starting with 0, i.e. 0, 1, 2, ..., [num_class - 1].\n",
      "  warnings.warn(label_encoder_deprecation_msg, UserWarning)\n"
     ]
    },
    {
     "name": "stderr",
     "output_type": "stream",
     "text": [
      "C:\\Users\\tohid\\anaconda3\\envs\\myland\\lib\\site-packages\\xgboost\\sklearn.py:888: UserWarning: The use of label encoder in XGBClassifier is deprecated and will be removed in a future release. To remove this warning, do the following: 1) Pass option use_label_encoder=False when constructing XGBClassifier object; and 2) Encode your labels (y) as integers starting with 0, i.e. 0, 1, 2, ..., [num_class - 1].\n",
      "  warnings.warn(label_encoder_deprecation_msg, UserWarning)\n",
      "C:\\Users\\tohid\\anaconda3\\envs\\myland\\lib\\site-packages\\xgboost\\sklearn.py:888: UserWarning: The use of label encoder in XGBClassifier is deprecated and will be removed in a future release. To remove this warning, do the following: 1) Pass option use_label_encoder=False when constructing XGBClassifier object; and 2) Encode your labels (y) as integers starting with 0, i.e. 0, 1, 2, ..., [num_class - 1].\n",
      "  warnings.warn(label_encoder_deprecation_msg, UserWarning)\n",
      "C:\\Users\\tohid\\anaconda3\\envs\\myland\\lib\\site-packages\\xgboost\\sklearn.py:888: UserWarning: The use of label encoder in XGBClassifier is deprecated and will be removed in a future release. To remove this warning, do the following: 1) Pass option use_label_encoder=False when constructing XGBClassifier object; and 2) Encode your labels (y) as integers starting with 0, i.e. 0, 1, 2, ..., [num_class - 1].\n",
      "  warnings.warn(label_encoder_deprecation_msg, UserWarning)\n",
      "C:\\Users\\tohid\\anaconda3\\envs\\myland\\lib\\site-packages\\xgboost\\sklearn.py:888: UserWarning: The use of label encoder in XGBClassifier is deprecated and will be removed in a future release. To remove this warning, do the following: 1) Pass option use_label_encoder=False when constructing XGBClassifier object; and 2) Encode your labels (y) as integers starting with 0, i.e. 0, 1, 2, ..., [num_class - 1].\n",
      "  warnings.warn(label_encoder_deprecation_msg, UserWarning)\n",
      "C:\\Users\\tohid\\anaconda3\\envs\\myland\\lib\\site-packages\\xgboost\\sklearn.py:888: UserWarning: The use of label encoder in XGBClassifier is deprecated and will be removed in a future release. To remove this warning, do the following: 1) Pass option use_label_encoder=False when constructing XGBClassifier object; and 2) Encode your labels (y) as integers starting with 0, i.e. 0, 1, 2, ..., [num_class - 1].\n",
      "  warnings.warn(label_encoder_deprecation_msg, UserWarning)\n",
      "C:\\Users\\tohid\\anaconda3\\envs\\myland\\lib\\site-packages\\xgboost\\sklearn.py:888: UserWarning: The use of label encoder in XGBClassifier is deprecated and will be removed in a future release. To remove this warning, do the following: 1) Pass option use_label_encoder=False when constructing XGBClassifier object; and 2) Encode your labels (y) as integers starting with 0, i.e. 0, 1, 2, ..., [num_class - 1].\n",
      "  warnings.warn(label_encoder_deprecation_msg, UserWarning)\n",
      "C:\\Users\\tohid\\anaconda3\\envs\\myland\\lib\\site-packages\\xgboost\\sklearn.py:888: UserWarning: The use of label encoder in XGBClassifier is deprecated and will be removed in a future release. To remove this warning, do the following: 1) Pass option use_label_encoder=False when constructing XGBClassifier object; and 2) Encode your labels (y) as integers starting with 0, i.e. 0, 1, 2, ..., [num_class - 1].\n",
      "  warnings.warn(label_encoder_deprecation_msg, UserWarning)\n"
     ]
    },
    {
     "data": {
      "text/plain": [
       "{'learning_rate': 0.5, 'n_estimators': 50}"
      ]
     },
     "execution_count": 43,
     "metadata": {},
     "output_type": "execute_result"
    }
   ],
   "source": [
    "XGB = XGBClassifier(random_state = 123, n_jobs = -1, eval_metric = 'logloss', verbosity = 0)\n",
    "parameters = {'n_estimators':[50 , 100, 200],\n",
    "              'learning_rate': [0.05, 0.1, 0.3, 0.5]}\n",
    "clf = GridSearchCV(XGB, parameters, cv = 5, scoring = \"recall\")\n",
    "clf.fit(X_train, y_train)\n",
    "clf.best_params_"
   ]
  },
  {
   "cell_type": "code",
   "execution_count": 44,
   "id": "3491f7fd",
   "metadata": {},
   "outputs": [
    {
     "name": "stdout",
     "output_type": "stream",
     "text": [
      "Accuracy, Precision, Recall\n"
     ]
    },
    {
     "data": {
      "text/plain": [
       "(0.8137777777777778, 0.637478108581436, 0.3658291457286432)"
      ]
     },
     "execution_count": 44,
     "metadata": {},
     "output_type": "execute_result"
    }
   ],
   "source": [
    "XGBopt = XGBClassifier(n_estimators = 50, learning_rate = 0.5, random_state = 123, n_jobs = -1,\n",
    "                    eval_metric = 'logloss', verbosity = 0)\n",
    "\n",
    "XGBopt.fit(X_train, y_train)\n",
    "y_pred_test = XGBopt.predict(X_test)\n",
    "analyze_prediction(y_pred_test, y_test, result_matrix = models, model_name = \"XGBoost\")"
   ]
  },
  {
   "cell_type": "code",
   "execution_count": 45,
   "id": "19ef8add",
   "metadata": {
    "scrolled": true
   },
   "outputs": [
    {
     "data": {
      "text/html": [
       "<div>\n",
       "<style scoped>\n",
       "    .dataframe tbody tr th:only-of-type {\n",
       "        vertical-align: middle;\n",
       "    }\n",
       "\n",
       "    .dataframe tbody tr th {\n",
       "        vertical-align: top;\n",
       "    }\n",
       "\n",
       "    .dataframe thead th {\n",
       "        text-align: right;\n",
       "    }\n",
       "</style>\n",
       "<table border=\"1\" class=\"dataframe\">\n",
       "  <thead>\n",
       "    <tr style=\"text-align: right;\">\n",
       "      <th></th>\n",
       "      <th>NULL</th>\n",
       "      <th>LogisticReg</th>\n",
       "      <th>ClassTree</th>\n",
       "      <th>NaiveBayes</th>\n",
       "      <th>RandomForest</th>\n",
       "      <th>XGBoost</th>\n",
       "    </tr>\n",
       "  </thead>\n",
       "  <tbody>\n",
       "    <tr>\n",
       "      <th>accuracy</th>\n",
       "      <td>77.888889</td>\n",
       "      <td>81.933333</td>\n",
       "      <td>78.866667</td>\n",
       "      <td>77.044444</td>\n",
       "      <td>81.600000</td>\n",
       "      <td>81.377778</td>\n",
       "    </tr>\n",
       "    <tr>\n",
       "      <th>precision</th>\n",
       "      <td>0.0</td>\n",
       "      <td>69.782609</td>\n",
       "      <td>53.216374</td>\n",
       "      <td>48.344948</td>\n",
       "      <td>65.045045</td>\n",
       "      <td>63.747811</td>\n",
       "    </tr>\n",
       "    <tr>\n",
       "      <th>recall</th>\n",
       "      <td>0.0</td>\n",
       "      <td>32.261307</td>\n",
       "      <td>36.582915</td>\n",
       "      <td>55.778894</td>\n",
       "      <td>36.281407</td>\n",
       "      <td>36.582915</td>\n",
       "    </tr>\n",
       "  </tbody>\n",
       "</table>\n",
       "</div>"
      ],
      "text/plain": [
       "                NULL LogisticReg  ClassTree NaiveBayes  RandomForest  \\\n",
       "accuracy   77.888889   81.933333  78.866667  77.044444     81.600000   \n",
       "precision        0.0   69.782609  53.216374  48.344948     65.045045   \n",
       "recall           0.0   32.261307  36.582915  55.778894     36.281407   \n",
       "\n",
       "             XGBoost  \n",
       "accuracy   81.377778  \n",
       "precision  63.747811  \n",
       "recall     36.582915  "
      ]
     },
     "execution_count": 45,
     "metadata": {},
     "output_type": "execute_result"
    }
   ],
   "source": [
    "models"
   ]
  },
  {
   "cell_type": "code",
   "execution_count": 46,
   "id": "67ce1edc",
   "metadata": {
    "scrolled": true
   },
   "outputs": [
    {
     "data": {
      "image/png": "[encoded data removed]",
      "text/plain": [
       "<Figure size 576x288 with 1 Axes>"
      ]
     },
     "metadata": {
      "needs_background": "light"
     },
     "output_type": "display_data"
    }
   ],
   "source": [
    "fig, ax = plt.subplots(figsize = (8, 4))\n",
    "models.plot(kind = \"barh\", ax = ax)\n",
    "ax.legend(loc = 'center right', bbox_to_anchor = (1.4, 0.5))\n",
    "ax.grid()"
   ]
  },
  {
   "cell_type": "markdown",
   "id": "1967ad57",
   "metadata": {},
   "source": [
    "#### Optimization of Naive Bayes model"
   ]
  },
  {
   "cell_type": "markdown",
   "id": "7acbe4b6",
   "metadata": {},
   "source": [
    "##### Comparision table"
   ]
  },
  {
   "cell_type": "code",
   "execution_count": 55,
   "id": "ad57312b",
   "metadata": {},
   "outputs": [
    {
     "data": {
      "text/html": [
       "<div>\n",
       "<style scoped>\n",
       "    .dataframe tbody tr th:only-of-type {\n",
       "        vertical-align: middle;\n",
       "    }\n",
       "\n",
       "    .dataframe tbody tr th {\n",
       "        vertical-align: top;\n",
       "    }\n",
       "\n",
       "    .dataframe thead th {\n",
       "        text-align: right;\n",
       "    }\n",
       "</style>\n",
       "<table border=\"1\" class=\"dataframe\">\n",
       "  <thead>\n",
       "    <tr style=\"text-align: right;\">\n",
       "      <th></th>\n",
       "      <th>NBoptRecall</th>\n",
       "      <th>NBoptAccuracy</th>\n",
       "      <th>NBoptPrecision</th>\n",
       "    </tr>\n",
       "  </thead>\n",
       "  <tbody>\n",
       "    <tr>\n",
       "      <th>accuracy</th>\n",
       "      <td>NaN</td>\n",
       "      <td>NaN</td>\n",
       "      <td>NaN</td>\n",
       "    </tr>\n",
       "    <tr>\n",
       "      <th>precision</th>\n",
       "      <td>NaN</td>\n",
       "      <td>NaN</td>\n",
       "      <td>NaN</td>\n",
       "    </tr>\n",
       "    <tr>\n",
       "      <th>recall</th>\n",
       "      <td>NaN</td>\n",
       "      <td>NaN</td>\n",
       "      <td>NaN</td>\n",
       "    </tr>\n",
       "  </tbody>\n",
       "</table>\n",
       "</div>"
      ],
      "text/plain": [
       "          NBoptRecall NBoptAccuracy NBoptPrecision\n",
       "accuracy          NaN           NaN            NaN\n",
       "precision         NaN           NaN            NaN\n",
       "recall            NaN           NaN            NaN"
      ]
     },
     "execution_count": 55,
     "metadata": {},
     "output_type": "execute_result"
    }
   ],
   "source": [
    "optNBmodels = make_comparision_df(index_lst = [\"accuracy\", \"precision\", \"recall\"],\n",
    "                             columns_lst = [\"NBoptRecall\", \"NBoptAccuracy\", \"NBoptPrecision\"])\n",
    "optNBmodels"
   ]
  },
  {
   "cell_type": "markdown",
   "id": "07d9079a",
   "metadata": {},
   "source": [
    "#### Naive Bayes Model before optimization"
   ]
  },
  {
   "cell_type": "code",
   "execution_count": 62,
   "id": "c92adbfe",
   "metadata": {
    "scrolled": true
   },
   "outputs": [
    {
     "data": {
      "text/html": [
       "<div>\n",
       "<style scoped>\n",
       "    .dataframe tbody tr th:only-of-type {\n",
       "        vertical-align: middle;\n",
       "    }\n",
       "\n",
       "    .dataframe tbody tr th {\n",
       "        vertical-align: top;\n",
       "    }\n",
       "\n",
       "    .dataframe thead th {\n",
       "        text-align: right;\n",
       "    }\n",
       "</style>\n",
       "<table border=\"1\" class=\"dataframe\">\n",
       "  <thead>\n",
       "    <tr style=\"text-align: right;\">\n",
       "      <th></th>\n",
       "      <th>NaiveBayes</th>\n",
       "      <th>NBoptimized</th>\n",
       "    </tr>\n",
       "  </thead>\n",
       "  <tbody>\n",
       "    <tr>\n",
       "      <th>accuracy</th>\n",
       "      <td>NaN</td>\n",
       "      <td>NaN</td>\n",
       "    </tr>\n",
       "    <tr>\n",
       "      <th>precision</th>\n",
       "      <td>NaN</td>\n",
       "      <td>NaN</td>\n",
       "    </tr>\n",
       "    <tr>\n",
       "      <th>recall</th>\n",
       "      <td>NaN</td>\n",
       "      <td>NaN</td>\n",
       "    </tr>\n",
       "  </tbody>\n",
       "</table>\n",
       "</div>"
      ],
      "text/plain": [
       "          NaiveBayes NBoptimized\n",
       "accuracy         NaN         NaN\n",
       "precision        NaN         NaN\n",
       "recall           NaN         NaN"
      ]
     },
     "execution_count": 62,
     "metadata": {},
     "output_type": "execute_result"
    }
   ],
   "source": [
    "NBmodels = make_comparision_df(index_lst = [\"accuracy\", \"precision\", \"recall\"],\n",
    "                             columns_lst = [\"NaiveBayes\", \"NBoptimized\"])\n",
    "NBmodels"
   ]
  },
  {
   "cell_type": "code",
   "execution_count": 67,
   "id": "b5bdc428",
   "metadata": {},
   "outputs": [
    {
     "name": "stdout",
     "output_type": "stream",
     "text": [
      "Accuracy, Precision, Recall\n"
     ]
    },
    {
     "data": {
      "text/plain": [
       "(0.7704444444444445, 0.4834494773519164, 0.5577889447236181)"
      ]
     },
     "execution_count": 67,
     "metadata": {},
     "output_type": "execute_result"
    }
   ],
   "source": [
    "NB = GaussianNB()\n",
    "NB.fit(X_train, y_train)\n",
    "y_pred_test = NB.predict(X_test)\n",
    "analyze_prediction(y_pred_test, y_test, result_matrix = NBmodels, model_name = \"NaiveBayes\")"
   ]
  },
  {
   "cell_type": "markdown",
   "id": "da5f1588",
   "metadata": {},
   "source": [
    "#### Optimizition based on recall"
   ]
  },
  {
   "cell_type": "code",
   "execution_count": 38,
   "id": "054718c9",
   "metadata": {},
   "outputs": [
    {
     "data": {
      "text/plain": [
       "{'var_smoothing': 0.1873817422860384}"
      ]
     },
     "execution_count": 38,
     "metadata": {},
     "output_type": "execute_result"
    }
   ],
   "source": [
    "NB = GaussianNB()\n",
    "parameters = {'var_smoothing': np.logspace(0, -9, num = 100)}\n",
    "clf = GridSearchCV(NB, parameters, cv = 5, scoring = \"recall\")\n",
    "clf.fit(X_train, y_train)\n",
    "clf.best_params_"
   ]
  },
  {
   "cell_type": "code",
   "execution_count": 63,
   "id": "f68e7239",
   "metadata": {
    "scrolled": true
   },
   "outputs": [
    {
     "name": "stdout",
     "output_type": "stream",
     "text": [
      "Accuracy, Precision, Recall\n",
      "Accuracy, Precision, Recall\n"
     ]
    },
    {
     "data": {
      "text/plain": [
       "(0.46155555555555555, 0.2751889168765743, 0.878391959798995)"
      ]
     },
     "execution_count": 63,
     "metadata": {},
     "output_type": "execute_result"
    }
   ],
   "source": [
    "NBopt1 = GaussianNB(var_smoothing = 0.1873817422860384)\n",
    "NBopt1.fit(X_train, y_train)\n",
    "y_pred_test = NBopt1.predict(X_test)\n",
    "analyze_prediction(y_pred_test, y_test, result_matrix = optNBmodels, model_name = \"NBoptRecall\")\n",
    "analyze_prediction(y_pred_test, y_test, result_matrix = NBmodels, model_name = \"NBoptimized\")"
   ]
  },
  {
   "cell_type": "markdown",
   "id": "fef18b09",
   "metadata": {},
   "source": [
    "#### Optimizition based on accuracy"
   ]
  },
  {
   "cell_type": "code",
   "execution_count": 40,
   "id": "e003eb5e",
   "metadata": {},
   "outputs": [
    {
     "data": {
      "text/plain": [
       "{'var_smoothing': 0.657933224657568}"
      ]
     },
     "execution_count": 40,
     "metadata": {},
     "output_type": "execute_result"
    }
   ],
   "source": [
    "NB = GaussianNB()\n",
    "parameters = {'var_smoothing': np.logspace(0, -9, num = 100)}\n",
    "clf = GridSearchCV(NB, parameters, cv = 5, scoring = \"accuracy\")\n",
    "clf.fit(X_train, y_train)\n",
    "clf.best_params_"
   ]
  },
  {
   "cell_type": "code",
   "execution_count": 41,
   "id": "b34f2f29",
   "metadata": {},
   "outputs": [
    {
     "name": "stdout",
     "output_type": "stream",
     "text": [
      "Accuracy, Precision, Recall\n"
     ]
    },
    {
     "data": {
      "text/plain": [
       "(0.798, 0.76875, 0.12361809045226131)"
      ]
     },
     "execution_count": 41,
     "metadata": {},
     "output_type": "execute_result"
    }
   ],
   "source": [
    "NBopt2 = GaussianNB(var_smoothing = 0.657933224657568)\n",
    "NBopt2.fit(X_train, y_train)\n",
    "y_pred_test = NBopt2.predict(X_test)\n",
    "analyze_prediction(y_pred_test, y_test, result_matrix = optNBmodels, model_name = \"NBoptAccuracy\")"
   ]
  },
  {
   "cell_type": "markdown",
   "id": "49d01417",
   "metadata": {},
   "source": [
    "#### Optimizition based on precision"
   ]
  },
  {
   "cell_type": "code",
   "execution_count": 42,
   "id": "f6fc3c50",
   "metadata": {},
   "outputs": [
    {
     "data": {
      "text/plain": [
       "{'var_smoothing': 1.0}"
      ]
     },
     "execution_count": 42,
     "metadata": {},
     "output_type": "execute_result"
    }
   ],
   "source": [
    "NB = GaussianNB()\n",
    "parameters = {'var_smoothing': np.logspace(0, -9, num = 100)}\n",
    "clf = GridSearchCV(NB, parameters, cv = 5, scoring = \"precision\")\n",
    "clf.fit(X_train, y_train)\n",
    "clf.best_params_"
   ]
  },
  {
   "cell_type": "code",
   "execution_count": 43,
   "id": "b951f4b2",
   "metadata": {},
   "outputs": [
    {
     "name": "stdout",
     "output_type": "stream",
     "text": [
      "Accuracy, Precision, Recall\n"
     ]
    },
    {
     "data": {
      "text/plain": [
       "(0.78, 0.8571428571428571, 0.006030150753768844)"
      ]
     },
     "execution_count": 43,
     "metadata": {},
     "output_type": "execute_result"
    }
   ],
   "source": [
    "NBopt3 = GaussianNB(var_smoothing = 1)\n",
    "NBopt3.fit(X_train, y_train)\n",
    "y_pred_test = NBopt3.predict(X_test)\n",
    "analyze_prediction(y_pred_test, y_test, result_matrix = optNBmodels, model_name = \"NBoptPrecision\")"
   ]
  },
  {
   "cell_type": "code",
   "execution_count": 44,
   "id": "0ddc64ca",
   "metadata": {
    "scrolled": true
   },
   "outputs": [
    {
     "data": {
      "text/html": [
       "<div>\n",
       "<style scoped>\n",
       "    .dataframe tbody tr th:only-of-type {\n",
       "        vertical-align: middle;\n",
       "    }\n",
       "\n",
       "    .dataframe tbody tr th {\n",
       "        vertical-align: top;\n",
       "    }\n",
       "\n",
       "    .dataframe thead th {\n",
       "        text-align: right;\n",
       "    }\n",
       "</style>\n",
       "<table border=\"1\" class=\"dataframe\">\n",
       "  <thead>\n",
       "    <tr style=\"text-align: right;\">\n",
       "      <th></th>\n",
       "      <th>NBoptRecall</th>\n",
       "      <th>NBoptAccuracy</th>\n",
       "      <th>NBoptPrecision</th>\n",
       "    </tr>\n",
       "  </thead>\n",
       "  <tbody>\n",
       "    <tr>\n",
       "      <th>accuracy</th>\n",
       "      <td>46.155556</td>\n",
       "      <td>79.8</td>\n",
       "      <td>78.0</td>\n",
       "    </tr>\n",
       "    <tr>\n",
       "      <th>precision</th>\n",
       "      <td>27.518892</td>\n",
       "      <td>76.875</td>\n",
       "      <td>85.714286</td>\n",
       "    </tr>\n",
       "    <tr>\n",
       "      <th>recall</th>\n",
       "      <td>87.839196</td>\n",
       "      <td>12.361809</td>\n",
       "      <td>0.603015</td>\n",
       "    </tr>\n",
       "  </tbody>\n",
       "</table>\n",
       "</div>"
      ],
      "text/plain": [
       "          NBoptRecall NBoptAccuracy NBoptPrecision\n",
       "accuracy    46.155556          79.8           78.0\n",
       "precision   27.518892        76.875      85.714286\n",
       "recall      87.839196     12.361809       0.603015"
      ]
     },
     "execution_count": 44,
     "metadata": {},
     "output_type": "execute_result"
    }
   ],
   "source": [
    "optNBmodels"
   ]
  },
  {
   "cell_type": "code",
   "execution_count": 45,
   "id": "a33eb264",
   "metadata": {
    "scrolled": true
   },
   "outputs": [
    {
     "data": {
      "image/png": "[encoded data removed]",
      "text/plain": [
       "<Figure size 576x288 with 1 Axes>"
      ]
     },
     "metadata": {
      "needs_background": "light"
     },
     "output_type": "display_data"
    }
   ],
   "source": [
    "fig, ax = plt.subplots(figsize = (8, 4))\n",
    "optNBmodels.plot(kind = \"barh\", ax = ax)\n",
    "ax.legend(loc = 'center right', bbox_to_anchor = (1.4, 0.5))\n",
    "ax.grid()"
   ]
  },
  {
   "cell_type": "code",
   "execution_count": 48,
   "id": "611d0c18",
   "metadata": {
    "scrolled": true
   },
   "outputs": [
    {
     "data": {
      "text/plain": [
       "Text(0.5, 1.0, 'Optimized Models with different criteria')"
      ]
     },
     "execution_count": 48,
     "metadata": {},
     "output_type": "execute_result"
    },
    {
     "data": {
      "image/png": "[encoded data removed]",
      "text/plain": [
       "<Figure size 432x216 with 1 Axes>"
      ]
     },
     "metadata": {
      "needs_background": "light"
     },
     "output_type": "display_data"
    }
   ],
   "source": [
    "X_axis = [\"NBoptRecall\", \"NBoptAccuracy\", \"NBoptPrecision\"]\n",
    "y_axis = optNBmodels.loc[\"recall\"]\n",
    "fix, ax = plt.subplots(figsize = (6, 3))\n",
    "ax.plot(X_axis, y_axis)\n",
    "ax.set_xlabel(\"Optimized Models\")\n",
    "ax.set_ylabel(\"Recall\")\n",
    "ax.set_title(\"Optimized Models with different criteria\")"
   ]
  },
  {
   "cell_type": "markdown",
   "id": "3819809a",
   "metadata": {},
   "source": [
    "#### Insight:\n",
    "As can be seen, we can select the optimization criteria to maximize the predictability depending on our bussiness metrics. \n",
    "\n",
    "It is obviouse that the recall for the Naive Bayes model which is optimized based on the recall yeilds much higher recall value than the other models."
   ]
  },
  {
   "cell_type": "code",
   "execution_count": 68,
   "id": "39d5d54c",
   "metadata": {},
   "outputs": [
    {
     "data": {
      "text/html": [
       "<div>\n",
       "<style scoped>\n",
       "    .dataframe tbody tr th:only-of-type {\n",
       "        vertical-align: middle;\n",
       "    }\n",
       "\n",
       "    .dataframe tbody tr th {\n",
       "        vertical-align: top;\n",
       "    }\n",
       "\n",
       "    .dataframe thead th {\n",
       "        text-align: right;\n",
       "    }\n",
       "</style>\n",
       "<table border=\"1\" class=\"dataframe\">\n",
       "  <thead>\n",
       "    <tr style=\"text-align: right;\">\n",
       "      <th></th>\n",
       "      <th>NaiveBayes</th>\n",
       "      <th>NBoptimized</th>\n",
       "    </tr>\n",
       "  </thead>\n",
       "  <tbody>\n",
       "    <tr>\n",
       "      <th>accuracy</th>\n",
       "      <td>77.044444</td>\n",
       "      <td>46.155556</td>\n",
       "    </tr>\n",
       "    <tr>\n",
       "      <th>precision</th>\n",
       "      <td>48.344948</td>\n",
       "      <td>27.518892</td>\n",
       "    </tr>\n",
       "    <tr>\n",
       "      <th>recall</th>\n",
       "      <td>55.778894</td>\n",
       "      <td>87.839196</td>\n",
       "    </tr>\n",
       "  </tbody>\n",
       "</table>\n",
       "</div>"
      ],
      "text/plain": [
       "          NaiveBayes NBoptimized\n",
       "accuracy   77.044444   46.155556\n",
       "precision  48.344948   27.518892\n",
       "recall     55.778894   87.839196"
      ]
     },
     "execution_count": 68,
     "metadata": {},
     "output_type": "execute_result"
    }
   ],
   "source": [
    "NBmodels"
   ]
  },
  {
   "cell_type": "code",
   "execution_count": 69,
   "id": "c53dea8e",
   "metadata": {
    "scrolled": true
   },
   "outputs": [
    {
     "data": {
      "image/png": "[encoded data removed]",
      "text/plain": [
       "<Figure size 576x288 with 1 Axes>"
      ]
     },
     "metadata": {
      "needs_background": "light"
     },
     "output_type": "display_data"
    }
   ],
   "source": [
    "fig, ax = plt.subplots(figsize = (8, 4))\n",
    "NBmodels.plot(kind = \"barh\", ax = ax)\n",
    "ax.legend(loc = 'center right', bbox_to_anchor = (1.4, 0.5))\n",
    "ax.grid()"
   ]
  },
  {
   "cell_type": "code",
   "execution_count": 71,
   "id": "4446b459",
   "metadata": {
    "scrolled": true
   },
   "outputs": [
    {
     "data": {
      "text/plain": [
       "Text(0.5, 1.0, 'Recall of NB models before and after optimization')"
      ]
     },
     "execution_count": 71,
     "metadata": {},
     "output_type": "execute_result"
    },
    {
     "data": {
      "image/png": "[encoded data removed]",
      "text/plain": [
       "<Figure size 432x216 with 1 Axes>"
      ]
     },
     "metadata": {
      "needs_background": "light"
     },
     "output_type": "display_data"
    }
   ],
   "source": [
    "X_axis = [\"NaiveBayes\", \"NBoptimized\"]\n",
    "y_axis = NBmodels.loc[\"recall\"]\n",
    "fix, ax = plt.subplots(figsize = (6, 3))\n",
    "ax.plot(X_axis, y_axis)\n",
    "ax.set_xlabel(\"NB models\")\n",
    "ax.set_ylabel(\"Recall\")\n",
    "ax.set_title(\"Recall of NB models before and after optimization\")"
   ]
  },
  {
   "cell_type": "markdown",
   "id": "29d99afb",
   "metadata": {},
   "source": [
    "#### Insight:\n",
    "So, the recall has improved significantly by optimizing the Naive Bayse model."
   ]
  },
  {
   "cell_type": "markdown",
   "id": "f742caef",
   "metadata": {},
   "source": [
    "## Finding the importance of each feature using Random Forest Model"
   ]
  },
  {
   "cell_type": "markdown",
   "id": "df8f9388",
   "metadata": {},
   "source": [
    "### Feature importance\n",
    "- models like RF and XGB after fitting a model, they can give us the importance and effectiveness of each feature\n",
    "- we can plot them and see if we want to do feature engineering and add a new feature, or dropping some features ..."
   ]
  },
  {
   "cell_type": "code",
   "execution_count": 73,
   "id": "dc6ca96d",
   "metadata": {
    "scrolled": true
   },
   "outputs": [
    {
     "name": "stderr",
     "output_type": "stream",
     "text": [
      "C:\\Users\\tohid\\AppData\\Roaming\\Python\\Python38\\site-packages\\seaborn\\_decorators.py:36: FutureWarning: Pass the following variables as keyword args: x, y. From version 0.12, the only valid positional argument will be `data`, and passing other arguments without an explicit keyword will result in an error or misinterpretation.\n",
      "  warnings.warn(\n"
     ]
    },
    {
     "data": {
      "image/png": "[encoded data removed]",
      "text/plain": [
       "<Figure size 576x288 with 1 Axes>"
      ]
     },
     "metadata": {
      "needs_background": "light"
     },
     "output_type": "display_data"
    }
   ],
   "source": [
    "RF = RandomForestClassifier(max_features = 13, min_samples_split = 2, \n",
    "                            n_estimators = 200, random_state = 123)\n",
    "RF.fit(X_train, y_train)\n",
    "imp_values = list(RF.feature_importances_)\n",
    "imp_table = pd.DataFrame({'feature':list(X_columns), 'importance':imp_values})\n",
    "imp_table.sort_values(by ='importance',inplace = True, ascending = False)\n",
    "make_bar_plot(X = imp_table['feature'], y = imp_table['importance'],\n",
    "              title = 'Feature Importance', xlbl = 'Feature', ylbl = 'Importance')"
   ]
  },
  {
   "cell_type": "markdown",
   "id": "bd73857c",
   "metadata": {},
   "source": [
    "#### Insight: \n",
    "We can see the importance of each parameter in the model. We can use this result to evaluate what happens if we disregard the least important features to decrease the calculation time and the hardware needed while improving the model's predictability or loss an ignorable amount of prediction accuracy depending on our bussiness metrics."
   ]
  },
  {
   "cell_type": "markdown",
   "id": "7791f5a7",
   "metadata": {},
   "source": [
    "## Naive Bayes Model using less features"
   ]
  },
  {
   "cell_type": "markdown",
   "id": "fc0462c3",
   "metadata": {},
   "source": [
    "- We are going to cut the number of features by 20%, based on the results of the previous part to see if it improves thpredictability of the Naive Bayes model. \n",
    "- Sometimes, omiting the least important features improve the predictability. \n",
    "- Also, it is can be favorable to decrease the number of features to decrease the calculation time and the hardware needs. \n",
    "\n",
    "So, let's try it:"
   ]
  },
  {
   "cell_type": "code",
   "execution_count": 83,
   "id": "0d1ce089",
   "metadata": {},
   "outputs": [
    {
     "data": {
      "text/html": [
       "<div>\n",
       "<style scoped>\n",
       "    .dataframe tbody tr th:only-of-type {\n",
       "        vertical-align: middle;\n",
       "    }\n",
       "\n",
       "    .dataframe tbody tr th {\n",
       "        vertical-align: top;\n",
       "    }\n",
       "\n",
       "    .dataframe thead th {\n",
       "        text-align: right;\n",
       "    }\n",
       "</style>\n",
       "<table border=\"1\" class=\"dataframe\">\n",
       "  <thead>\n",
       "    <tr style=\"text-align: right;\">\n",
       "      <th></th>\n",
       "      <th>NBopt_allFeatures</th>\n",
       "      <th>NBopt_20Features</th>\n",
       "    </tr>\n",
       "  </thead>\n",
       "  <tbody>\n",
       "    <tr>\n",
       "      <th>accuracy</th>\n",
       "      <td>NaN</td>\n",
       "      <td>NaN</td>\n",
       "    </tr>\n",
       "    <tr>\n",
       "      <th>precision</th>\n",
       "      <td>NaN</td>\n",
       "      <td>NaN</td>\n",
       "    </tr>\n",
       "    <tr>\n",
       "      <th>recall</th>\n",
       "      <td>NaN</td>\n",
       "      <td>NaN</td>\n",
       "    </tr>\n",
       "  </tbody>\n",
       "</table>\n",
       "</div>"
      ],
      "text/plain": [
       "          NBopt_allFeatures NBopt_20Features\n",
       "accuracy                NaN              NaN\n",
       "precision               NaN              NaN\n",
       "recall                  NaN              NaN"
      ]
     },
     "execution_count": 83,
     "metadata": {},
     "output_type": "execute_result"
    }
   ],
   "source": [
    "NBmodels_cutFea = make_comparision_df(index_lst = [\"accuracy\", \"precision\", \"recall\"],\n",
    "                             columns_lst = [\"NBopt_allFeatures\", \"NBopt_20Features\"])\n",
    "NBmodels_cutFea"
   ]
  },
  {
   "cell_type": "code",
   "execution_count": 141,
   "id": "cd7afcd6",
   "metadata": {},
   "outputs": [
    {
     "name": "stdout",
     "output_type": "stream",
     "text": [
      "Accuracy, Precision, Recall\n"
     ]
    },
    {
     "data": {
      "text/plain": [
       "(0.46155555555555555, 0.2751889168765743, 0.878391959798995)"
      ]
     },
     "execution_count": 141,
     "metadata": {},
     "output_type": "execute_result"
    }
   ],
   "source": [
    "NBoptallF = GaussianNB(var_smoothing = 0.1873817422860384)\n",
    "NBoptallF.fit(X_train, y_train)\n",
    "y_pred_test = NBoptallF.predict(X_test)\n",
    "analyze_prediction(y_pred_test, y_test, result_matrix = NBmodels_cutFea, model_name = \"NBopt_allFeatures\")"
   ]
  },
  {
   "cell_type": "code",
   "execution_count": 128,
   "id": "0dea72bb",
   "metadata": {},
   "outputs": [],
   "source": [
    "features_name = [\"default\", \"high_school\", \"pay_6\", \"grad_school\", \"pay_5\", \"university\"]\n",
    "X2 = default.drop(features_name, axis = 1)\n",
    "X_columns = X2.columns \n",
    "y2 = default[\"default\"]\n",
    "RS2 = RobustScaler()\n",
    "X2 = RS2.fit_transform(X2)\n",
    "X2_train, X2_test, y2_train, y2_test = train_test_split(X2, y2, test_size = 0.15, random_state = 123, stratify = y)"
   ]
  },
  {
   "cell_type": "code",
   "execution_count": 129,
   "id": "27207feb",
   "metadata": {},
   "outputs": [
    {
     "name": "stdout",
     "output_type": "stream",
     "text": [
      "Accuracy, Precision, Recall\n"
     ]
    },
    {
     "data": {
      "text/plain": [
       "(0.4017777777777778, 0.2570855997709705, 0.9025125628140703)"
      ]
     },
     "execution_count": 129,
     "metadata": {},
     "output_type": "execute_result"
    }
   ],
   "source": [
    "NBopt20F = GaussianNB(var_smoothing = 0.1873817422860384)\n",
    "NBopt20F.fit(X2_train, y2_train)\n",
    "y_pred_test = NBopt20F.predict(X2_test)\n",
    "analyze_prediction(y_pred_test, y2_test, result_matrix = NBmodels_cutFea, model_name = \"NBopt_20Features\")"
   ]
  },
  {
   "cell_type": "code",
   "execution_count": 130,
   "id": "539261b7",
   "metadata": {
    "scrolled": true
   },
   "outputs": [
    {
     "data": {
      "text/html": [
       "<div>\n",
       "<style scoped>\n",
       "    .dataframe tbody tr th:only-of-type {\n",
       "        vertical-align: middle;\n",
       "    }\n",
       "\n",
       "    .dataframe tbody tr th {\n",
       "        vertical-align: top;\n",
       "    }\n",
       "\n",
       "    .dataframe thead th {\n",
       "        text-align: right;\n",
       "    }\n",
       "</style>\n",
       "<table border=\"1\" class=\"dataframe\">\n",
       "  <thead>\n",
       "    <tr style=\"text-align: right;\">\n",
       "      <th></th>\n",
       "      <th>NBopt_allFeatures</th>\n",
       "      <th>NBopt_20Features</th>\n",
       "    </tr>\n",
       "  </thead>\n",
       "  <tbody>\n",
       "    <tr>\n",
       "      <th>accuracy</th>\n",
       "      <td>46.155556</td>\n",
       "      <td>40.177778</td>\n",
       "    </tr>\n",
       "    <tr>\n",
       "      <th>precision</th>\n",
       "      <td>27.518892</td>\n",
       "      <td>25.70856</td>\n",
       "    </tr>\n",
       "    <tr>\n",
       "      <th>recall</th>\n",
       "      <td>87.839196</td>\n",
       "      <td>90.251256</td>\n",
       "    </tr>\n",
       "  </tbody>\n",
       "</table>\n",
       "</div>"
      ],
      "text/plain": [
       "          NBopt_allFeatures NBopt_20Features\n",
       "accuracy          46.155556        40.177778\n",
       "precision         27.518892         25.70856\n",
       "recall            87.839196        90.251256"
      ]
     },
     "execution_count": 130,
     "metadata": {},
     "output_type": "execute_result"
    }
   ],
   "source": [
    "NBmodels_cutFea"
   ]
  },
  {
   "cell_type": "code",
   "execution_count": 131,
   "id": "96aeff10",
   "metadata": {},
   "outputs": [
    {
     "data": {
      "text/plain": [
       "(85.0, 93.0)"
      ]
     },
     "execution_count": 131,
     "metadata": {},
     "output_type": "execute_result"
    },
    {
     "data": {
      "image/png": "[encoded data removed]",
      "text/plain": [
       "<Figure size 432x216 with 1 Axes>"
      ]
     },
     "metadata": {
      "needs_background": "light"
     },
     "output_type": "display_data"
    }
   ],
   "source": [
    "X_axis = [\"NBopt_allFeatures\", \"NBopt_20Features\"]\n",
    "y_axis = NBmodels_cutFea.loc[\"recall\"]\n",
    "fix, ax = plt.subplots(figsize = (6, 3))\n",
    "ax.plot(X_axis, y_axis)\n",
    "ax.set_xlabel(\"Models\")\n",
    "ax.set_ylabel(\"Recall\")\n",
    "\n",
    "plt.ylim([85,93])"
   ]
  },
  {
   "cell_type": "markdown",
   "id": "77891a78",
   "metadata": {},
   "source": [
    "#### Insight:\n",
    "\n",
    "It can be concluded that the recall improves by cutting 20% of the least important features."
   ]
  },
  {
   "cell_type": "markdown",
   "id": "52362f81",
   "metadata": {},
   "source": [
    "# Do we need more data?"
   ]
  },
  {
   "cell_type": "markdown",
   "id": "fa498652",
   "metadata": {},
   "source": [
    "- We would like to see whether having more data could improve the prtedictability of our models or no.\n",
    "\n",
    "- So, we are going to see what happens if we just have a proportion of observed data.\n",
    "\n",
    "- By analyzing the trend of accuract, precision, and recall vs the number of training data, we can find if having more data could be helpful or not."
   ]
  },
  {
   "cell_type": "code",
   "execution_count": 92,
   "id": "1f1ff577",
   "metadata": {},
   "outputs": [],
   "source": [
    "models_dataSize = make_comparision_df(index_lst = [], columns_lst = [])"
   ]
  },
  {
   "cell_type": "code",
   "execution_count": 93,
   "id": "9e7d6e7a",
   "metadata": {},
   "outputs": [
    {
     "name": "stdout",
     "output_type": "stream",
     "text": [
      "Accuracy, Precision, Recall\n",
      "Accuracy, Precision, Recall\n",
      "Accuracy, Precision, Recall\n",
      "Accuracy, Precision, Recall\n"
     ]
    }
   ],
   "source": [
    "analyze_data_size(keep_ratio = 0.5, X_train_original = X_train, X_test_original = X_test, y_train_original = y_train, y_test_original = y_test)\n",
    "analyze_data_size(keep_ratio = 0.7, X_train_original = X_train, X_test_original = X_test, y_train_original = y_train, y_test_original = y_test)\n",
    "analyze_data_size(keep_ratio = 0.9, X_train_original = X_train, X_test_original = X_test, y_train_original = y_train, y_test_original = y_test)\n",
    "analyze_data_size(keep_ratio = 0.999, X_train_original = X_train, X_test_original = X_test, y_train_original = y_train, y_test_original = y_test)"
   ]
  },
  {
   "cell_type": "code",
   "execution_count": 94,
   "id": "e6c2ff81",
   "metadata": {},
   "outputs": [
    {
     "data": {
      "text/html": [
       "<div>\n",
       "<style scoped>\n",
       "    .dataframe tbody tr th:only-of-type {\n",
       "        vertical-align: middle;\n",
       "    }\n",
       "\n",
       "    .dataframe tbody tr th {\n",
       "        vertical-align: top;\n",
       "    }\n",
       "\n",
       "    .dataframe thead th {\n",
       "        text-align: right;\n",
       "    }\n",
       "</style>\n",
       "<table border=\"1\" class=\"dataframe\">\n",
       "  <thead>\n",
       "    <tr style=\"text-align: right;\">\n",
       "      <th></th>\n",
       "      <th>50%</th>\n",
       "      <th>70%</th>\n",
       "      <th>90%</th>\n",
       "      <th>100%</th>\n",
       "    </tr>\n",
       "  </thead>\n",
       "  <tbody>\n",
       "    <tr>\n",
       "      <th>accuracy</th>\n",
       "      <td>43.000000</td>\n",
       "      <td>43.577778</td>\n",
       "      <td>45.355556</td>\n",
       "      <td>46.044444</td>\n",
       "    </tr>\n",
       "    <tr>\n",
       "      <th>precision</th>\n",
       "      <td>26.595110</td>\n",
       "      <td>26.718938</td>\n",
       "      <td>27.252952</td>\n",
       "      <td>27.489790</td>\n",
       "    </tr>\n",
       "    <tr>\n",
       "      <th>recall</th>\n",
       "      <td>89.648241</td>\n",
       "      <td>89.045226</td>\n",
       "      <td>88.140704</td>\n",
       "      <td>87.939698</td>\n",
       "    </tr>\n",
       "  </tbody>\n",
       "</table>\n",
       "</div>"
      ],
      "text/plain": [
       "                 50%        70%        90%       100%\n",
       "accuracy   43.000000  43.577778  45.355556  46.044444\n",
       "precision  26.595110  26.718938  27.252952  27.489790\n",
       "recall     89.648241  89.045226  88.140704  87.939698"
      ]
     },
     "execution_count": 94,
     "metadata": {},
     "output_type": "execute_result"
    }
   ],
   "source": [
    "models_dataSize"
   ]
  },
  {
   "cell_type": "code",
   "execution_count": 95,
   "id": "5269641a",
   "metadata": {
    "scrolled": true
   },
   "outputs": [
    {
     "data": {
      "text/plain": [
       "(40.0, 50.0)"
      ]
     },
     "execution_count": 95,
     "metadata": {},
     "output_type": "execute_result"
    },
    {
     "data": {
      "image/png": "[encoded data removed]",
      "text/plain": [
       "<Figure size 432x216 with 1 Axes>"
      ]
     },
     "metadata": {
      "needs_background": "light"
     },
     "output_type": "display_data"
    }
   ],
   "source": [
    "X_axis = [50, 70, 90, 100]\n",
    "y_axis = models_dataSize.loc[\"accuracy\"]\n",
    "fix, ax = plt.subplots(figsize = (6, 3))\n",
    "ax.plot(X_axis, y_axis)\n",
    "ax.set_xlabel(\"Train size (%)\")\n",
    "ax.set_ylabel(\"Accuracy\")\n",
    "ax.set_title(\"Data Size vs Accuracy\")\n",
    "plt.ylim([40, 50])"
   ]
  },
  {
   "cell_type": "markdown",
   "id": "fd1ae5b1",
   "metadata": {},
   "source": [
    "#### Insight:\n",
    "It can be concluded that the more the count of data, the improved the predictability."
   ]
  },
  {
   "cell_type": "markdown",
   "id": "9b100b24",
   "metadata": {},
   "source": [
    "## Inference time - Benchmark"
   ]
  },
  {
   "cell_type": "markdown",
   "id": "a60017ce",
   "metadata": {},
   "source": [
    "Let's see  the inference time of the model using all features vs the model using top 20 features."
   ]
  },
  {
   "cell_type": "code",
   "execution_count": 120,
   "id": "bbc993ff",
   "metadata": {},
   "outputs": [],
   "source": [
    "new_customer1 = OrderedDict([('limit_bal', 4000), ('age', 50), ('bill_amt1', 500),\n",
    "                            ('bill_amt2', 35509), ('bill_amt3', 689), ('bill_amt4', 0),\n",
    "                            ('bill_amt5',0), ('bill_amt6',0), ('pay_amt1', 0),('pay_amt2', 35509),\n",
    "                            ('pay_amt3', 0), ('pay_amt4', 0),('pay_amt5',0), ('pay_amt6',0),\n",
    "                            ('male', 1), ('married',1), ('grad_school', 0), ('university',1),\n",
    "                            ('high_school',0), ('pay_0', -1),('pay_2', -1),\n",
    "                            ('pay_3', -1), ('pay_4', 0),('pay_5',-1), ('pay_6',0)])\n",
    "new_costomer1 = pd.Series(new_customer1)"
   ]
  },
  {
   "cell_type": "code",
   "execution_count": 121,
   "id": "6fc58260",
   "metadata": {},
   "outputs": [],
   "source": [
    "new_customer2 = OrderedDict([('limit_bal', 4000), ('age', 50), ('bill_amt1', 500),\n",
    "                            ('bill_amt2', 35509), ('bill_amt3', 689), ('bill_amt4', 0),\n",
    "                            ('bill_amt5',0), ('bill_amt6',0), ('pay_amt1', 0),('pay_amt2', 35509),\n",
    "                            ('pay_amt3', 0), ('pay_amt4', 0),('pay_amt5',0), ('pay_amt6',0),\n",
    "                            ('male', 1), ('married',1), ('pay_0', -1),('pay_2', -1),('pay_3', -1),\n",
    "                            ('pay_4', 0)])\n",
    "\n",
    "new_costomer2 = pd.Series(new_customer2)"
   ]
  },
  {
   "cell_type": "code",
   "execution_count": 172,
   "id": "ae979908",
   "metadata": {},
   "outputs": [
    {
     "name": "stdout",
     "output_type": "stream",
     "text": [
      "24.49277377128601\n"
     ]
    }
   ],
   "source": [
    "time1 = time.time()\n",
    "\n",
    "for i in range(100000):\n",
    "    make_predict(new_costomer1, model = NBoptallF, scaler = RS, threshold = 0.5)\n",
    "\n",
    "time2 = time.time()       \n",
    "duration_allF = time2 - time1\n",
    "print(duration_allF)"
   ]
  },
  {
   "cell_type": "code",
   "execution_count": 171,
   "id": "fcce83cd",
   "metadata": {},
   "outputs": [
    {
     "name": "stdout",
     "output_type": "stream",
     "text": [
      "20.829667568206787\n"
     ]
    }
   ],
   "source": [
    "time3 = time.time()\n",
    "\n",
    "for i in range(100000):\n",
    "    make_predict(new_costomer2, model = NBopt20F, scaler = RS2, threshold = 0.5)\n",
    "\n",
    "time4 = time.time()       \n",
    "duration_20F = time4 - time3\n",
    "print(duration_20F)"
   ]
  },
  {
   "cell_type": "code",
   "execution_count": 177,
   "id": "9ec49019",
   "metadata": {},
   "outputs": [
    {
     "name": "stdout",
     "output_type": "stream",
     "text": [
      "15 % less time consuming\n"
     ]
    }
   ],
   "source": [
    "time_cut = round(((duration_allF - duration_20F)/(duration_allF))*100)\n",
    "print(time_cut,\"% less time consuming\")"
   ]
  },
  {
   "cell_type": "markdown",
   "id": "5ceee509",
   "metadata": {},
   "source": [
    "### Insight: \n",
    "We can conclude that cutting the least important features(20% of features) leads not only to improved predictability of the model (as shown in the previous part), but also to reduce the inference time by 15%. "
   ]
  },
  {
   "cell_type": "markdown",
   "id": "0aaa7675",
   "metadata": {},
   "source": [
    "## Data pipeline"
   ]
  },
  {
   "cell_type": "code",
   "execution_count": 98,
   "id": "a7d42827",
   "metadata": {},
   "outputs": [],
   "source": [
    "features_name = [\"default\", \"high_school\", \"pay_6\", \"grad_school\", \"pay_5\", \"university\"]\n",
    "X3 = default.drop(features_name, axis = 1)\n",
    "X_columns = X3.columns \n",
    "y3 = default[\"default\"]\n",
    "RS = RobustScaler()"
   ]
  },
  {
   "cell_type": "code",
   "execution_count": 101,
   "id": "3efbb323",
   "metadata": {},
   "outputs": [],
   "source": [
    "steps = [('scaler', RobustScaler()), \n",
    "         ('model', GaussianNB(var_smoothing = 0.1873817422860384))]\n",
    "\n",
    "finalModel = Pipeline(steps)\n",
    "finalModel.fit(X3, y3);"
   ]
  },
  {
   "cell_type": "markdown",
   "id": "f3b91348",
   "metadata": {},
   "source": [
    "### Saving the final pipeline"
   ]
  },
  {
   "cell_type": "code",
   "execution_count": 108,
   "id": "27752cb5",
   "metadata": {},
   "outputs": [],
   "source": [
    "modelDirectory = os.path.join(os.path.dirname(os.getcwd()),'Jupyter\\\\Mae_CreditCard\\\\model')\n",
    "fileName = modelDirectory + \"\\\\model.sav\"\n",
    "pickle.dump(finalModel, open(fileName, 'wb'))"
   ]
  },
  {
   "cell_type": "markdown",
   "id": "717d7222",
   "metadata": {},
   "source": [
    "### Loading the final pipeline"
   ]
  },
  {
   "cell_type": "code",
   "execution_count": 180,
   "id": "6d8cd405",
   "metadata": {},
   "outputs": [],
   "source": [
    "loaded_model = pickle.load(open(modelDirectory + \"\\\\model.sav\", \"rb\"))"
   ]
  },
  {
   "cell_type": "code",
   "execution_count": 181,
   "id": "5f04caec",
   "metadata": {},
   "outputs": [],
   "source": [
    "new_customer = OrderedDict([('limit_bal', 4000), ('age', 50), ('bill_amt1', 500),\n",
    "                            ('bill_amt2', 35509), ('bill_amt3', 689), ('bill_amt4', 0),\n",
    "                            ('bill_amt5',0), ('bill_amt6',0), ('pay_amt1', 0),('pay_amt2', 35509),\n",
    "                            ('pay_amt3', 0), ('pay_amt4', 0),('pay_amt5',0), ('pay_amt6',0),\n",
    "                            ('male', 1), ('married',1), ('pay_0', -1),('pay_2', -1),('pay_3', -1),\n",
    "                            ('pay_4', 0)])\n",
    "\n",
    "new_costomer = pd.Series(new_customer)\n",
    "new_costomer= new_costomer.values.reshape(1, -1)"
   ]
  },
  {
   "cell_type": "code",
   "execution_count": 182,
   "id": "556cbd96",
   "metadata": {},
   "outputs": [],
   "source": [
    "prob = loaded_model.predict_proba(new_costomer)[0, 1]"
   ]
  },
  {
   "cell_type": "code",
   "execution_count": 183,
   "id": "b4e617d9",
   "metadata": {
    "scrolled": false
   },
   "outputs": [
    {
     "name": "stdout",
     "output_type": "stream",
     "text": [
      "Will Default\n"
     ]
    }
   ],
   "source": [
    "if prob >= 0.5:\n",
    "    print(\"Will Default\")\n",
    "else:\n",
    "    print(\"Will Pay\")"
   ]
  }
 ],
 "metadata": {
  "kernelspec": {
   "display_name": "Python 3 (ipykernel)",
   "language": "python",
   "name": "python3"
  },
  "language_info": {
   "codemirror_mode": {
    "name": "ipython",
    "version": 3
   },
   "file_extension": ".py",
   "mimetype": "text/x-python",
   "name": "python",
   "nbconvert_exporter": "python",
   "pygments_lexer": "ipython3",
   "version": "3.8.11"
  }
 },
 "nbformat": 4,
 "nbformat_minor": 5
}
